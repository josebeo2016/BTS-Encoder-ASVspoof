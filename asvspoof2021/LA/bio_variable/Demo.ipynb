{
 "cells": [
  {
   "cell_type": "code",
   "execution_count": 3,
   "id": "641f2a25-bd6a-4c82-87f1-e258b990d2f2",
   "metadata": {},
   "outputs": [
    {
     "ename": "ImportError",
     "evalue": "attempted relative import with no known parent package",
     "output_type": "error",
     "traceback": [
      "\u001b[0;31m---------------------------------------------------------------------------\u001b[0m",
      "\u001b[0;31mImportError\u001b[0m                               Traceback (most recent call last)",
      "\u001b[0;32m<ipython-input-3-e0b37af51349>\u001b[0m in \u001b[0;36m<module>\u001b[0;34m\u001b[0m\n\u001b[1;32m      9\u001b[0m \u001b[0;34m\u001b[0m\u001b[0m\n\u001b[1;32m     10\u001b[0m \u001b[0;31m#your task\u001b[0m\u001b[0;34m\u001b[0m\u001b[0;34m\u001b[0m\u001b[0;34m\u001b[0m\u001b[0m\n\u001b[0;32m---> 11\u001b[0;31m \u001b[0;32mfrom\u001b[0m \u001b[0mmodel\u001b[0m \u001b[0;32mimport\u001b[0m \u001b[0mRawNet\u001b[0m\u001b[0;34m\u001b[0m\u001b[0;34m\u001b[0m\u001b[0m\n\u001b[0m\u001b[1;32m     12\u001b[0m \u001b[0;32mfrom\u001b[0m \u001b[0mbiosegment\u001b[0m \u001b[0;32mimport\u001b[0m \u001b[0mwav2bio\u001b[0m\u001b[0;34m\u001b[0m\u001b[0;34m\u001b[0m\u001b[0m\n",
      "\u001b[0;32m~/biological/asvspoof2021/LA/Baseline-RawNet2-bio/model.py\u001b[0m in \u001b[0;36m<module>\u001b[0;34m\u001b[0m\n\u001b[1;32m     10\u001b[0m \u001b[0;32mimport\u001b[0m \u001b[0mmath\u001b[0m\u001b[0;34m\u001b[0m\u001b[0;34m\u001b[0m\u001b[0m\n\u001b[1;32m     11\u001b[0m \u001b[0;34m\u001b[0m\u001b[0m\n\u001b[0;32m---> 12\u001b[0;31m \u001b[0;32mfrom\u001b[0m \u001b[0;34m.\u001b[0m \u001b[0;32mimport\u001b[0m \u001b[0mtransformer\u001b[0m\u001b[0;34m\u001b[0m\u001b[0;34m\u001b[0m\u001b[0m\n\u001b[0m\u001b[1;32m     13\u001b[0m \u001b[0;32mfrom\u001b[0m \u001b[0;34m.\u001b[0m \u001b[0;32mimport\u001b[0m \u001b[0mcnns2s\u001b[0m\u001b[0;34m\u001b[0m\u001b[0;34m\u001b[0m\u001b[0m\n\u001b[1;32m     14\u001b[0m \u001b[0;34m\u001b[0m\u001b[0m\n",
      "\u001b[0;31mImportError\u001b[0m: attempted relative import with no known parent package"
     ]
    }
   ],
   "source": [
    "import os\n",
    "from re import S\n",
    "import numpy as np\n",
    "import torch\n",
    "import torch.nn as nn\n",
    "from torch import Tensor\n",
    "import librosa\n",
    "import yaml\n",
    "\n",
    "#your task\n",
    "from model import RawNet\n",
    "from biosegment import wav2bio"
   ]
  },
  {
   "cell_type": "code",
   "execution_count": 4,
   "id": "52b111c7-920c-4cc9-a9fc-16adae546b56",
   "metadata": {},
   "outputs": [],
   "source": [
    "def get_Bio(X_pad, fs):\n",
    "\n",
    "    bio = wav2bio(X_pad, fs)\n",
    "    # bio_length = len(bio)\n",
    "    bio_inp = torch.IntTensor(bio)\n",
    "    bio_length = torch.IntTensor([len(bio)])\n",
    "    return bio_inp, bio_length\n",
    "\n",
    "def pad(x, max_len=64600):\n",
    "    x_len = x.shape[0]\n",
    "    if x_len >= max_len:\n",
    "        return x[:max_len]\n",
    "    # need to pad\n",
    "    num_repeats = int(max_len / x_len)+1\n",
    "    padded_x = np.tile(x, (1, num_repeats))[:, :max_len][0]\n",
    "    return padded_x\n",
    "\n",
    "def parse_input(file_path):\n",
    "    cut = 64600  # take ~4 sec audio (64600 samples)\n",
    "    X, fs = librosa.load(file_path, sr=16000)\n",
    "    X_pad = pad(X, cut)\n",
    "    x_inp = Tensor(X_pad)\n",
    "    bio_inp, bio_length = get_Bio(X_pad, fs)\n",
    "    \n",
    "        \n",
    "    return x_inp.unsqueeze(0).to(device), bio_inp.unsqueeze(0).to(device), bio_length.to(device)"
   ]
  },
  {
   "cell_type": "code",
   "execution_count": 5,
   "id": "9baf958a-db65-4d3d-9a7c-93cb3f060dc7",
   "metadata": {},
   "outputs": [
    {
     "ename": "NameError",
     "evalue": "name 'RawNet' is not defined",
     "output_type": "error",
     "traceback": [
      "\u001b[0;31m---------------------------------------------------------------------------\u001b[0m",
      "\u001b[0;31mNameError\u001b[0m                                 Traceback (most recent call last)",
      "\u001b[0;32m<ipython-input-5-77f923465a9d>\u001b[0m in \u001b[0;36m<module>\u001b[0;34m\u001b[0m\n\u001b[1;32m      5\u001b[0m     \u001b[0mparser1\u001b[0m \u001b[0;34m=\u001b[0m \u001b[0myaml\u001b[0m\u001b[0;34m.\u001b[0m\u001b[0msafe_load\u001b[0m\u001b[0;34m(\u001b[0m\u001b[0mf_yaml\u001b[0m\u001b[0;34m)\u001b[0m\u001b[0;34m\u001b[0m\u001b[0;34m\u001b[0m\u001b[0m\n\u001b[1;32m      6\u001b[0m \u001b[0;34m\u001b[0m\u001b[0m\n\u001b[0;32m----> 7\u001b[0;31m \u001b[0mmodel\u001b[0m \u001b[0;34m=\u001b[0m \u001b[0mRawNet\u001b[0m\u001b[0;34m(\u001b[0m\u001b[0mparser1\u001b[0m\u001b[0;34m[\u001b[0m\u001b[0;34m'model'\u001b[0m\u001b[0;34m]\u001b[0m\u001b[0;34m,\u001b[0m \u001b[0mdevice\u001b[0m\u001b[0;34m)\u001b[0m\u001b[0;34m.\u001b[0m\u001b[0mto\u001b[0m\u001b[0;34m(\u001b[0m\u001b[0mdevice\u001b[0m\u001b[0;34m)\u001b[0m\u001b[0;34m\u001b[0m\u001b[0;34m\u001b[0m\u001b[0m\n\u001b[0m\u001b[1;32m      8\u001b[0m \u001b[0mmodel\u001b[0m\u001b[0;34m.\u001b[0m\u001b[0mload_state_dict\u001b[0m\u001b[0;34m(\u001b[0m\u001b[0mtorch\u001b[0m\u001b[0;34m.\u001b[0m\u001b[0mload\u001b[0m\u001b[0;34m(\u001b[0m\u001b[0mmodel_path\u001b[0m\u001b[0;34m,\u001b[0m\u001b[0mmap_location\u001b[0m\u001b[0;34m=\u001b[0m\u001b[0mdevice\u001b[0m\u001b[0;34m)\u001b[0m\u001b[0;34m)\u001b[0m\u001b[0;34m\u001b[0m\u001b[0;34m\u001b[0m\u001b[0m\n",
      "\u001b[0;31mNameError\u001b[0m: name 'RawNet' is not defined"
     ]
    }
   ],
   "source": [
    "config_path = \"configs/model_config_RawNet_Trans_32concat.yaml\"\n",
    "model_path = \"models/trans_32concat/epoch_91.pth\"\n",
    "device = 'cuda:0' \n",
    "with open(config_path, 'r') as f_yaml:\n",
    "    parser1 = yaml.safe_load(f_yaml)\n",
    "\n",
    "model = RawNet(parser1['model'], device).to(device)\n",
    "model.load_state_dict(torch.load(model_path,map_location=device))"
   ]
  },
  {
   "cell_type": "code",
   "execution_count": 16,
   "id": "42e14c6d-decd-4aac-b1c0-19b3a9bf3d57",
   "metadata": {},
   "outputs": [],
   "source": [
    "# path = \"/root/biological/asvspoof2021/LA/Baseline-RawNet2-bio/Demo/prof.wav\"\n",
    "# y, sr = librosa.load(path,sr = 44100)\n",
    "# y_16k = librosa.resample(y, orig_sr=sr, target_sr=16000)\n",
    "# import soundfile as sf\n",
    "# sf.write('/root/biological/asvspoof2021/LA/Baseline-RawNet2-bio/Demo/prof_16k.flac', y_16k, 16000, format='flac', subtype='PCM_24')"
   ]
  },
  {
   "cell_type": "code",
   "execution_count": 17,
   "id": "35c4401a-3213-438b-84ee-16c74ddc7d0d",
   "metadata": {},
   "outputs": [
    {
     "name": "stdout",
     "output_type": "stream",
     "text": [
      "spoof\n"
     ]
    }
   ],
   "source": [
    "model.eval()\n",
    "# Load the audio file that we need to check whether it is fake voice or not.\n",
    "wav = \"/root/dataset/ASVspoof/LA/ASVspoof2019_LA_eval/flac/LA_E_5085671.flac\"\n",
    "# wav = \"/root/dataset/ASVspoof/ASVspoof2021_LA_eval/flac/LA_E_5464494.flac\"\n",
    "# wav = \"/root/dataset/ASVspoof/ASVspoof2021_LA_eval/flac/LA_E_2925019.flac\"\n",
    "\n",
    "# wav = \"/root/dataset/Speech/AIHub_Studio/wavs/01FHSH0028/01FHSH0028_00122.wav\"\n",
    "\n",
    "# wav = \"/root/biological/asvspoof2021/LA/Baseline-RawNet2-bio/Demo/prof_16k.flac\"\n",
    "\n",
    "# Extract the feature of the audio\n",
    "x_inp, bio_inp, bio_length = parse_input(wav)\n",
    "\n",
    "# use the model to calculate the prediction value\n",
    "out, _ = model(x_inp, bio_inp, bio_length)\n",
    "\n",
    "# out = [0.123345135,-0.1234145124]\n",
    "\n",
    "# Convert into readable format\n",
    "_, pred = out.max(dim=1)\n",
    "if pred:\n",
    "    print(\"bonafide\") #real voice\n",
    "else:\n",
    "    print(\"spoof\") #fake voice"
   ]
  },
  {
   "cell_type": "code",
   "execution_count": 41,
   "id": "e5ce973f-8ad5-4970-b42d-dc1b6d560611",
   "metadata": {},
   "outputs": [
    {
     "name": "stdout",
     "output_type": "stream",
     "text": [
      "tensor([-1.5497e-05], grad_fn=<MaxBackward0>)\n",
      "tensor([0])\n"
     ]
    }
   ],
   "source": [
    "\n"
   ]
  },
  {
   "cell_type": "code",
   "execution_count": 44,
   "id": "de821cef-dddd-4bae-8afb-5e2d4a313b9f",
   "metadata": {},
   "outputs": [
    {
     "data": {
      "text/plain": [
       "tensor([[-1.0610e-05, -1.1457e+01]], grad_fn=<LogSoftmaxBackward>)"
      ]
     },
     "execution_count": 44,
     "metadata": {},
     "output_type": "execute_result"
    }
   ],
   "source": [
    "out"
   ]
  },
  {
   "cell_type": "code",
   "execution_count": 45,
   "id": "e1341544-2f35-4c5f-89de-5bba4f5db10a",
   "metadata": {},
   "outputs": [
    {
     "data": {
      "text/plain": [
       "RawNet(\n",
       "  (Sinc_conv): SincConv()\n",
       "  (first_bn): BatchNorm1d(20, eps=1e-05, momentum=0.1, affine=True, track_running_stats=True)\n",
       "  (selu): SELU(inplace=True)\n",
       "  (block0): Sequential(\n",
       "    (0): Residual_block(\n",
       "      (lrelu): LeakyReLU(negative_slope=0.3)\n",
       "      (conv1): Conv1d(20, 20, kernel_size=(3,), stride=(1,), padding=(1,))\n",
       "      (bn2): BatchNorm1d(20, eps=1e-05, momentum=0.1, affine=True, track_running_stats=True)\n",
       "      (conv2): Conv1d(20, 20, kernel_size=(3,), stride=(1,), padding=(1,))\n",
       "      (mp): MaxPool1d(kernel_size=3, stride=3, padding=0, dilation=1, ceil_mode=False)\n",
       "    )\n",
       "  )\n",
       "  (block1): Sequential(\n",
       "    (0): Residual_block(\n",
       "      (bn1): BatchNorm1d(20, eps=1e-05, momentum=0.1, affine=True, track_running_stats=True)\n",
       "      (lrelu): LeakyReLU(negative_slope=0.3)\n",
       "      (conv1): Conv1d(20, 20, kernel_size=(3,), stride=(1,), padding=(1,))\n",
       "      (bn2): BatchNorm1d(20, eps=1e-05, momentum=0.1, affine=True, track_running_stats=True)\n",
       "      (conv2): Conv1d(20, 20, kernel_size=(3,), stride=(1,), padding=(1,))\n",
       "      (mp): MaxPool1d(kernel_size=3, stride=3, padding=0, dilation=1, ceil_mode=False)\n",
       "    )\n",
       "  )\n",
       "  (block2): Sequential(\n",
       "    (0): Residual_block(\n",
       "      (bn1): BatchNorm1d(20, eps=1e-05, momentum=0.1, affine=True, track_running_stats=True)\n",
       "      (lrelu): LeakyReLU(negative_slope=0.3)\n",
       "      (conv1): Conv1d(20, 128, kernel_size=(3,), stride=(1,), padding=(1,))\n",
       "      (bn2): BatchNorm1d(128, eps=1e-05, momentum=0.1, affine=True, track_running_stats=True)\n",
       "      (conv2): Conv1d(128, 128, kernel_size=(3,), stride=(1,), padding=(1,))\n",
       "      (conv_downsample): Conv1d(20, 128, kernel_size=(1,), stride=(1,))\n",
       "      (mp): MaxPool1d(kernel_size=3, stride=3, padding=0, dilation=1, ceil_mode=False)\n",
       "    )\n",
       "  )\n",
       "  (block3): Sequential(\n",
       "    (0): Residual_block(\n",
       "      (bn1): BatchNorm1d(128, eps=1e-05, momentum=0.1, affine=True, track_running_stats=True)\n",
       "      (lrelu): LeakyReLU(negative_slope=0.3)\n",
       "      (conv1): Conv1d(128, 128, kernel_size=(3,), stride=(1,), padding=(1,))\n",
       "      (bn2): BatchNorm1d(128, eps=1e-05, momentum=0.1, affine=True, track_running_stats=True)\n",
       "      (conv2): Conv1d(128, 128, kernel_size=(3,), stride=(1,), padding=(1,))\n",
       "      (mp): MaxPool1d(kernel_size=3, stride=3, padding=0, dilation=1, ceil_mode=False)\n",
       "    )\n",
       "  )\n",
       "  (block4): Sequential(\n",
       "    (0): Residual_block(\n",
       "      (bn1): BatchNorm1d(128, eps=1e-05, momentum=0.1, affine=True, track_running_stats=True)\n",
       "      (lrelu): LeakyReLU(negative_slope=0.3)\n",
       "      (conv1): Conv1d(128, 128, kernel_size=(3,), stride=(1,), padding=(1,))\n",
       "      (bn2): BatchNorm1d(128, eps=1e-05, momentum=0.1, affine=True, track_running_stats=True)\n",
       "      (conv2): Conv1d(128, 128, kernel_size=(3,), stride=(1,), padding=(1,))\n",
       "      (mp): MaxPool1d(kernel_size=3, stride=3, padding=0, dilation=1, ceil_mode=False)\n",
       "    )\n",
       "  )\n",
       "  (block5): Sequential(\n",
       "    (0): Residual_block(\n",
       "      (bn1): BatchNorm1d(128, eps=1e-05, momentum=0.1, affine=True, track_running_stats=True)\n",
       "      (lrelu): LeakyReLU(negative_slope=0.3)\n",
       "      (conv1): Conv1d(128, 128, kernel_size=(3,), stride=(1,), padding=(1,))\n",
       "      (bn2): BatchNorm1d(128, eps=1e-05, momentum=0.1, affine=True, track_running_stats=True)\n",
       "      (conv2): Conv1d(128, 128, kernel_size=(3,), stride=(1,), padding=(1,))\n",
       "      (mp): MaxPool1d(kernel_size=3, stride=3, padding=0, dilation=1, ceil_mode=False)\n",
       "    )\n",
       "  )\n",
       "  (avgpool): AdaptiveAvgPool1d(output_size=1)\n",
       "  (fc_attention0): Sequential(\n",
       "    (0): Linear(in_features=20, out_features=20, bias=True)\n",
       "  )\n",
       "  (fc_attention1): Sequential(\n",
       "    (0): Linear(in_features=20, out_features=20, bias=True)\n",
       "  )\n",
       "  (fc_attention2): Sequential(\n",
       "    (0): Linear(in_features=128, out_features=128, bias=True)\n",
       "  )\n",
       "  (fc_attention3): Sequential(\n",
       "    (0): Linear(in_features=128, out_features=128, bias=True)\n",
       "  )\n",
       "  (fc_attention4): Sequential(\n",
       "    (0): Linear(in_features=128, out_features=128, bias=True)\n",
       "  )\n",
       "  (fc_attention5): Sequential(\n",
       "    (0): Linear(in_features=128, out_features=128, bias=True)\n",
       "  )\n",
       "  (bn_before_gru): BatchNorm1d(128, eps=1e-05, momentum=0.1, affine=True, track_running_stats=True)\n",
       "  (gru): GRU(128, 1024, num_layers=3, batch_first=True)\n",
       "  (fc1_gru): Linear(in_features=1024, out_features=1024, bias=True)\n",
       "  (bioScoring): bioEncoderTransformersmall(\n",
       "    (bio_embedding): Embedding(3, 32)\n",
       "    (encoder): Encoder(\n",
       "      (drop): Dropout(p=0.0, inplace=False)\n",
       "      (attn_layers): ModuleList(\n",
       "        (0): MultiHeadAttention(\n",
       "          (conv_q): Conv1d(32, 32, kernel_size=(1,), stride=(1,))\n",
       "          (conv_k): Conv1d(32, 32, kernel_size=(1,), stride=(1,))\n",
       "          (conv_v): Conv1d(32, 32, kernel_size=(1,), stride=(1,))\n",
       "          (conv_o): Conv1d(32, 32, kernel_size=(1,), stride=(1,))\n",
       "          (drop): Dropout(p=0.0, inplace=False)\n",
       "        )\n",
       "        (1): MultiHeadAttention(\n",
       "          (conv_q): Conv1d(32, 32, kernel_size=(1,), stride=(1,))\n",
       "          (conv_k): Conv1d(32, 32, kernel_size=(1,), stride=(1,))\n",
       "          (conv_v): Conv1d(32, 32, kernel_size=(1,), stride=(1,))\n",
       "          (conv_o): Conv1d(32, 32, kernel_size=(1,), stride=(1,))\n",
       "          (drop): Dropout(p=0.0, inplace=False)\n",
       "        )\n",
       "        (2): MultiHeadAttention(\n",
       "          (conv_q): Conv1d(32, 32, kernel_size=(1,), stride=(1,))\n",
       "          (conv_k): Conv1d(32, 32, kernel_size=(1,), stride=(1,))\n",
       "          (conv_v): Conv1d(32, 32, kernel_size=(1,), stride=(1,))\n",
       "          (conv_o): Conv1d(32, 32, kernel_size=(1,), stride=(1,))\n",
       "          (drop): Dropout(p=0.0, inplace=False)\n",
       "        )\n",
       "      )\n",
       "      (norm_layers_1): ModuleList(\n",
       "        (0): LayerNorm()\n",
       "        (1): LayerNorm()\n",
       "        (2): LayerNorm()\n",
       "      )\n",
       "      (ffn_layers): ModuleList(\n",
       "        (0): FFN(\n",
       "          (conv_1): Conv1d(32, 128, kernel_size=(1,), stride=(1,))\n",
       "          (conv_2): Conv1d(128, 32, kernel_size=(1,), stride=(1,))\n",
       "          (drop): Dropout(p=0.0, inplace=False)\n",
       "        )\n",
       "        (1): FFN(\n",
       "          (conv_1): Conv1d(32, 128, kernel_size=(1,), stride=(1,))\n",
       "          (conv_2): Conv1d(128, 32, kernel_size=(1,), stride=(1,))\n",
       "          (drop): Dropout(p=0.0, inplace=False)\n",
       "        )\n",
       "        (2): FFN(\n",
       "          (conv_1): Conv1d(32, 128, kernel_size=(1,), stride=(1,))\n",
       "          (conv_2): Conv1d(128, 32, kernel_size=(1,), stride=(1,))\n",
       "          (drop): Dropout(p=0.0, inplace=False)\n",
       "        )\n",
       "      )\n",
       "      (norm_layers_2): ModuleList(\n",
       "        (0): LayerNorm()\n",
       "        (1): LayerNorm()\n",
       "        (2): LayerNorm()\n",
       "      )\n",
       "    )\n",
       "    (bio_scoring): Conv1d(32, 64, kernel_size=(1,), stride=(1,))\n",
       "  )\n",
       "  (fc2_gru): Linear(in_features=1088, out_features=2, bias=True)\n",
       "  (sig): Sigmoid()\n",
       "  (logsoftmax): LogSoftmax(dim=1)\n",
       ")"
      ]
     },
     "execution_count": 45,
     "metadata": {},
     "output_type": "execute_result"
    }
   ],
   "source": [
    "model.eval()"
   ]
  },
  {
   "cell_type": "code",
   "execution_count": 48,
   "id": "e29b1d0c-136d-473a-b3f1-0898af6116c8",
   "metadata": {},
   "outputs": [
    {
     "data": {
      "text/plain": [
       "<All keys matched successfully>"
      ]
     },
     "execution_count": 48,
     "metadata": {},
     "output_type": "execute_result"
    }
   ],
   "source": [
    "config_path = \"configs/model_config_RawNet_Trans_32concat.yaml\"\n",
    "model_path = \"models/trans_32concat/epoch_91.pth\"\n",
    "device = 'cpu' \n",
    "with open(config_path, 'r') as f_yaml:\n",
    "    parser1 = yaml.safe_load(f_yaml)\n",
    "model = RawNet(parser1['model'], device)\n",
    "model.load_state_dict(torch.load(model_path,map_location=device))"
   ]
  },
  {
   "cell_type": "code",
   "execution_count": null,
   "id": "e7a0746c-2de3-45e5-b750-92054d8ccc26",
   "metadata": {},
   "outputs": [],
   "source": []
  }
 ],
 "metadata": {
  "kernelspec": {
   "display_name": "Python 3",
   "language": "python",
   "name": "python3"
  },
  "vscode": {
   "interpreter": {
    "hash": "767d51c1340bd893661ea55ea3124f6de3c7a262a8b4abca0554b478b1e2ff90"
   }
  }
 },
 "nbformat": 4,
 "nbformat_minor": 5
}
