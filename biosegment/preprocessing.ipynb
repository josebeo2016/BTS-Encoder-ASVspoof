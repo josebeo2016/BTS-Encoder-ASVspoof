{
 "cells": [
  {
   "attachments": {},
   "cell_type": "markdown",
   "metadata": {},
   "source": [
    "# making noisy dataset"
   ]
  },
  {
   "cell_type": "code",
   "execution_count": null,
   "metadata": {},
   "outputs": [],
   "source": [
    "from preprocess import extract_lfcc, extract_mfcc\n",
    "from GMM_breath import GMMClassifier, ClassifierValidator, VectorDataSource\n",
    "import pickle\n",
    "from auditok import DataValidator, ADSFactory, DataSource, StreamTokenizer, BufferAudioSource, player_for\n",
    "import soundfile as sf\n",
    "from IPython.display import display, Audio\n",
    "from hparams import *"
   ]
  }
 ],
 "metadata": {
  "kernelspec": {
   "display_name": "bio",
   "language": "python",
   "name": "python3"
  },
  "language_info": {
   "name": "python",
   "version": "3.9.16"
  },
  "orig_nbformat": 4
 },
 "nbformat": 4,
 "nbformat_minor": 2
}
