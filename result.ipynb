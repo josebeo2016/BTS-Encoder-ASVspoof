{
 "cells": [
  {
   "cell_type": "code",
   "execution_count": 1,
   "metadata": {},
   "outputs": [],
   "source": [
    "import torch\n",
    "import torchvision.transforms as tvt\n",
    "from torch.utils.data import DataLoader\n",
    "from tqdm import tqdm\n",
    "import shutil\n",
    "import pandas as pd\n",
    "import numpy as np\n",
    "import os\n",
    "torch.manual_seed(1234)\n",
    "from evaluate_metrics import compute_eer\n",
    "import matplotlib.pyplot as plt\n",
    "from sklearn.metrics import confusion_matrix, ConfusionMatrixDisplay\n",
    "font = {'family' : 'normal',\n",
    "        'weight' : 'normal',\n",
    "        'size'   : 14}"
   ]
  },
  {
   "cell_type": "code",
   "execution_count": 2,
   "metadata": {},
   "outputs": [
    {
     "data": {
      "text/plain": [
       "<bound method NDFrame.head of            sid           utt phy attack     label\n",
       "0      LA_0039  LA_E_2834763   -    A11     spoof\n",
       "1      LA_0014  LA_E_8877452   -    A14     spoof\n",
       "2      LA_0040  LA_E_6828287   -    A16     spoof\n",
       "3      LA_0022  LA_E_6977360   -    A09     spoof\n",
       "4      LA_0031  LA_E_5932896   -    A13     spoof\n",
       "...        ...           ...  ..    ...       ...\n",
       "71232  LA_0004  LA_E_1665632   -      -  bonafide\n",
       "71233  LA_0038  LA_E_5085671   -    A09     spoof\n",
       "71234  LA_0012  LA_E_4926022   -    A16     spoof\n",
       "71235  LA_0052  LA_E_2894498   -      -  bonafide\n",
       "71236  LA_0009  LA_E_4689563   -    A19     spoof\n",
       "\n",
       "[71237 rows x 5 columns]>"
      ]
     },
     "execution_count": 2,
     "metadata": {},
     "output_type": "execute_result"
    }
   ],
   "source": [
    "# load eval set\n",
    "eval_df = pd.read_csv(\"/datab/Dataset/ASVspoof/LA/ASVspoof2019_LA_cm_protocols/ASVspoof2019.LA.cm.eval.trl.txt\", sep=\" \", header=None)\n",
    "eval_df.columns = [\"sid\", \"utt\",\"phy\", \"attack\", \"label\"]\n",
    "eval_df.head\n"
   ]
  },
  {
   "cell_type": "code",
   "execution_count": 7,
   "metadata": {},
   "outputs": [
    {
     "data": {
      "text/plain": [
       "array(['A11', 'A14', 'A16', 'A09', 'A13', '-', 'A12', 'A18', 'A15', 'A08',\n",
       "       'A17', 'A10', 'A07', 'A19'], dtype=object)"
      ]
     },
     "execution_count": 7,
     "metadata": {},
     "output_type": "execute_result"
    }
   ],
   "source": [
    "eval_df['attack'].unique()"
   ]
  },
  {
   "cell_type": "code",
   "execution_count": 10,
   "metadata": {},
   "outputs": [
    {
     "name": "stdout",
     "output_type": "stream",
     "text": [
      "A11: EER: 0.1459%, threshold: -0.0012\n",
      "A14: EER: 0.0645%, threshold: -5.1865\n",
      "A16: EER: 0.0645%, threshold: -4.8951\n",
      "A09: EER: 0.0577%, threshold: -6.8903\n",
      "A13: EER: 0.0577%, threshold: -6.0583\n",
      "-: EER: nan%, threshold: -10.2035\n",
      "A12: EER: 0.0645%, threshold: -3.3135\n",
      "A18: EER: 5.4736%, threshold: -0.0000\n",
      "A15: EER: 0.0645%, threshold: -4.6514\n",
      "A08: EER: 0.0577%, threshold: -7.3271\n",
      "A17: EER: 1.5065%, threshold: -0.0001\n",
      "A10: EER: 0.2613%, threshold: -0.0003\n",
      "A07: EER: 0.0577%, threshold: -6.4221\n",
      "A19: EER: 9.0122%, threshold: -0.0000\n"
     ]
    }
   ],
   "source": [
    "pred_df = pd.read_csv(\"asvspoof2021/LA/wav2vec-bio/asvspoof2019_21.txt\", sep=\" \", header=None)\n",
    "pred_df.columns = [\"utt\", \"asdf\", \"sefsef\", \"score\"]\n",
    "\n",
    "\n",
    "# merge eval_df and pred_df on utt\n",
    "res_df = pd.merge(eval_df, pred_df, on='utt')\n",
    "# print(res_df.head)\n",
    "\n",
    "# calcuate EER by attack type\n",
    "eer_dict = {}\n",
    "# res_df['attack'].unique()\n",
    "for attack in res_df['attack'].unique():\n",
    "    # print(attack)\n",
    "    spoof_scores = res_df[(res_df['attack'] == attack) & (res_df['label'] == 'spoof')]['score']\n",
    "    bonafide_scores = res_df[(res_df['label'] == 'bonafide')]['score']\n",
    "    eer, threshold = compute_eer(bonafide_scores, spoof_scores)\n",
    "    eer_dict[attack] = eer\n",
    "    print(\"{}: EER: {:.4f}%, threshold: {:.4f}\".format(attack, eer*100, threshold))\n",
    "\n",
    "# compute EER\n",
    "# spoof_scores = res_df[res_df['label'] == 'spoof']['score']\n",
    "# bonafide_scores = res_df[res_df['label'] == 'bonafide']['score']\n",
    "# eer, threshold = compute_eer(bonafide_scores, spoof_scores)\n",
    "# print(\"EER: {:.4f}%, threshold: {:.4f}\".format(eer*100, threshold))\n",
    "# res_df['pred'] = res_df['score'].apply(lambda x: 'spoof' if x < threshold else 'bonafide')\n",
    "# # confusion matrix\n",
    "# cm = confusion_matrix(res_df[\"label\"], res_df[\"pred\"], labels=[\"spoof\",\"bonafide\"])\n",
    "# disp = ConfusionMatrixDisplay(confusion_matrix=cm, display_labels=[\"spoof\",\"bonafide\"])\n",
    "# disp.plot(cmap='Greens', values_format='g')\n",
    "# plt.title(\"wav2vec-bio_asvspoof2019_21.txt\")\n",
    "# # plt.savefig(\"figs/ori_assl_cm.png\", dpi=300)\n",
    "# plt.show()\n"
   ]
  },
  {
   "cell_type": "code",
   "execution_count": null,
   "metadata": {},
   "outputs": [],
   "source": [
    "# break down based on attack type\n"
   ]
  }
 ],
 "metadata": {
  "kernelspec": {
   "display_name": "py39",
   "language": "python",
   "name": "py39"
  },
  "language_info": {
   "codemirror_mode": {
    "name": "ipython",
    "version": 3
   },
   "file_extension": ".py",
   "mimetype": "text/x-python",
   "name": "python",
   "nbconvert_exporter": "python",
   "pygments_lexer": "ipython3",
   "version": "3.9.13"
  },
  "orig_nbformat": 4
 },
 "nbformat": 4,
 "nbformat_minor": 2
}
