{
 "cells": [
  {
   "cell_type": "code",
   "execution_count": 1,
   "metadata": {},
   "outputs": [],
   "source": [
    "import os\n",
    "from re import S\n",
    "import numpy as np\n",
    "import torch\n",
    "import torch.nn as nn\n",
    "from torch import Tensor\n",
    "import librosa\n",
    "import yaml\n",
    "\n",
    "from model import RawNet\n",
    "\n"
   ]
  },
  {
   "cell_type": "code",
   "execution_count": 4,
   "metadata": {},
   "outputs": [],
   "source": [
    "emb = torch.load('/dataa/phucdt/bio/distillation/wav2vec_bio_emb/LA_E_1000147')\n"
   ]
  },
  {
   "cell_type": "code",
   "execution_count": 5,
   "metadata": {},
   "outputs": [
    {
     "name": "stdout",
     "output_type": "stream",
     "text": [
      "192\n"
     ]
    }
   ],
   "source": [
    "print(len(emb))"
   ]
  },
  {
   "cell_type": "code",
   "execution_count": 2,
   "metadata": {},
   "outputs": [
    {
     "data": {
      "text/plain": [
       "<All keys matched successfully>"
      ]
     },
     "execution_count": 2,
     "metadata": {},
     "output_type": "execute_result"
    }
   ],
   "source": [
    "config_path = \"model_config_RawNet.yaml\"\n",
    "model_path = \"models/model_LA_CCE_100_64_0.0001/epoch_71.pth\"\n",
    "device = 'cpu' \n",
    "with open(config_path, 'r') as f_yaml:\n",
    "    parser1 = yaml.safe_load(f_yaml)\n",
    "\n",
    "model = RawNet(parser1['model'], device).to(device)\n",
    "model.load_state_dict(torch.load(model_path,map_location=device))"
   ]
  },
  {
   "cell_type": "code",
   "execution_count": 3,
   "metadata": {},
   "outputs": [],
   "source": [
    "def pad(x, max_len=64600):\n",
    "    x_len = x.shape[0]\n",
    "    if x_len >= max_len:\n",
    "        return x[:max_len]\n",
    "    # need to pad\n",
    "    num_repeats = int(max_len / x_len)+1\n",
    "    padded_x = np.tile(x, (1, num_repeats))[:, :max_len][0]\n",
    "    return padded_x\n",
    "\n",
    "def parse_input(file_path):\n",
    "    cut = 64600  # take ~4 sec audio (64600 samples)\n",
    "    X, fs = librosa.load(file_path, sr=16000)\n",
    "    X_pad = pad(X, cut)\n",
    "    x_inp = Tensor(X_pad)\n",
    "    return x_inp.unsqueeze(0).to(device)"
   ]
  },
  {
   "cell_type": "code",
   "execution_count": 4,
   "metadata": {},
   "outputs": [],
   "source": [
    "wav1 = \"/root/dataset/Dataset/ASVspoof/LA/ASVspoof2019_LA_eval/flac/LA_E_5085671.flac\"\n",
    "#wav2 = \"/root/dataset/ASVspoof/ASVspoof2021_LA_eval/flac/LA_E_5464494.flac\"\n",
    "wav3 = \"/root/dataset/ASVspoof/ASVspoof2021_LA_eval/flac/LA_E_2925019.flac\"\n",
    "wav4 = \"/root/dataset/Speech/AIHub_Studio/wavs/01FHSH0028/01FHSH0028_00122.wav\"\n",
    "wav5 = \"/root/biological/asvspoof2021/LA/Baseline-RawNet2-bio/Demo/prof_16k.flac\""
   ]
  },
  {
   "cell_type": "code",
   "execution_count": 7,
   "metadata": {},
   "outputs": [
    {
     "name": "stdout",
     "output_type": "stream",
     "text": [
      "tensor([[ 0.0004,  0.0003,  0.0004,  ..., -0.0035,  0.0002, -0.0019]])\n",
      "spoof\n"
     ]
    }
   ],
   "source": [
    "model.eval()\n",
    "# Load the audio file that we need to check whether it is fake voice or not.\n",
    "wav1 = \"/root/dataset/Dataset/ASVspoof/LA/ASVspoof2019_LA_eval/flac/LA_E_5085671.flac\"\n",
    "#wav2 = \"/root/dataset/ASVspoof/ASVspoof2021_LA_eval/flac/LA_E_5464494.flac\"\n",
    "#wav = \"/root/dataset/ASVspoof/ASVspoof2021_LA_eval/flac/LA_E_2925019.flac\"\n",
    "#wav = \"/root/dataset/Speech/AIHub_Studio/wavs/01FHSH0028/01FHSH0028_00122.wav\"\n",
    "wav = \"/dataa/phucdt/bio/test_data/LA_E_1665632.flac\" # bonafide\n",
    "wav = \"/dataa/phucdt/bio/test_data/LA_E_5085671.flac\" # spoof\n",
    "\n",
    "# Extract the feature of the audio\n",
    "\n",
    "x_inp = parse_input(wav)\n",
    "print(x_inp)\n",
    "# use the model to calculate the prediction value\n",
    "# out, _ = model(x_inp)\n",
    "out, _ = model(x_inp)\n",
    "\n",
    "# out = [0.123345135,-0.1234145124]\n",
    "\n",
    "# Convert into readable format\n",
    "_, pred = out.max(dim=1)\n",
    "if pred:\n",
    "    print(\"bonafide\") #real voice\n",
    "else:\n",
    "    print(\"spoof\") #fake voice"
   ]
  },
  {
   "cell_type": "code",
   "execution_count": 10,
   "metadata": {},
   "outputs": [
    {
     "name": "stdout",
     "output_type": "stream",
     "text": [
      "tensor([0]) tensor([[ 0.0198, -0.0488, -0.0493,  ..., -0.0502, -0.6838,  0.9603]],\n",
      "       grad_fn=<AddmmBackward>)\n"
     ]
    }
   ],
   "source": [
    "wav = \"/root/dataset/Dataset/ASVspoof/LA/ASVspoof2019_LA_eval/flac/LA_E_5085671.flac\"\n",
    "x_inp = parse_input(wav)\n",
    "out, _ = model(x_inp)\n",
    "print(pred, _)"
   ]
  },
  {
   "cell_type": "code",
   "execution_count": 11,
   "metadata": {},
   "outputs": [
    {
     "name": "stdout",
     "output_type": "stream",
     "text": [
      "tensor([[ 0.0004,  0.0003,  0.0004,  ..., -0.0035,  0.0002, -0.0019]])\n"
     ]
    }
   ],
   "source": [
    "model.eval()\n",
    "# Load the audio file that we need to check whether it is fake voice or not.\n",
    "wav = \"/root/dataset/Dataset/ASVspoof/LA/ASVspoof2019_LA_eval/flac/LA_E_5085671.flac\"\n",
    "x_inp = parse_input(wav)\n",
    "def printsave(*a):\n",
    "    file = open('output.txt','a')\n",
    "    print(*a)\n",
    "    print(*a,file=file)\n",
    "printsave(x_inp)"
   ]
  },
  {
   "cell_type": "markdown",
   "metadata": {
    "tags": []
   },
   "source": [
    "# Android Conversion"
   ]
  },
  {
   "cell_type": "code",
   "execution_count": 1,
   "metadata": {},
   "outputs": [
    {
     "name": "stderr",
     "output_type": "stream",
     "text": [
      "/home/phucdt/anaconda3/envs/bio/lib/python3.9/site-packages/tqdm/auto.py:22: TqdmWarning: IProgress not found. Please update jupyter and ipywidgets. See https://ipywidgets.readthedocs.io/en/stable/user_install.html\n",
      "  from .autonotebook import tqdm as notebook_tqdm\n"
     ]
    }
   ],
   "source": [
    "import os\n",
    "from re import S\n",
    "import numpy as np\n",
    "import torch\n",
    "import torch.nn as nn\n",
    "from torch import Tensor\n",
    "import librosa\n",
    "import yaml\n",
    "\n",
    "from model import RawNet"
   ]
  },
  {
   "cell_type": "code",
   "execution_count": 2,
   "metadata": {},
   "outputs": [
    {
     "data": {
      "text/plain": [
       "<All keys matched successfully>"
      ]
     },
     "execution_count": 2,
     "metadata": {},
     "output_type": "execute_result"
    }
   ],
   "source": [
    "config_path = \"model_config_RawNet.yaml\"\n",
    "model_path = \"models/model_LA_CCE_100_64_0.0001/epoch_71.pth\"\n",
    "device = 'cpu' \n",
    "with open(config_path, 'r') as f_yaml:\n",
    "    parser1 = yaml.safe_load(f_yaml)\n",
    "\n",
    "model = RawNet(parser1['model'], device).to(device)\n",
    "model.load_state_dict(torch.load(model_path,map_location=device))"
   ]
  },
  {
   "cell_type": "code",
   "execution_count": 3,
   "metadata": {},
   "outputs": [],
   "source": [
    "def pad(x, max_len=64600):\n",
    "    x_len = x.shape[0]\n",
    "    if x_len >= max_len:\n",
    "        return x[:max_len]\n",
    "    # need to pad\n",
    "    num_repeats = int(max_len / x_len)+1\n",
    "    padded_x = np.tile(x, (1, num_repeats))[:, :max_len][0]\n",
    "    return padded_x\n",
    "\n",
    "def parse_input(file_path):\n",
    "    cut = 64600  # take ~4 sec audio (64600 samples)\n",
    "    X, fs = librosa.load(file_path, sr=16000)\n",
    "    X_pad = pad(X, cut)\n",
    "    x_inp = Tensor(X_pad)\n",
    "    return x_inp.unsqueeze(0).to(device)"
   ]
  },
  {
   "cell_type": "code",
   "execution_count": 4,
   "metadata": {},
   "outputs": [
    {
     "name": "stdout",
     "output_type": "stream",
     "text": [
      "데이터 개수 : 71237\n"
     ]
    }
   ],
   "source": [
    "f = open(\"data.txt\", 'r')\n",
    "data = []\n",
    "while True:\n",
    "    line = f.readline().strip()\n",
    "    if not line: break\n",
    "    data.append(line)\n",
    "    #print(line)\n",
    "f.close()\n",
    "print(\"데이터 개수 :\",len(data))"
   ]
  },
  {
   "cell_type": "code",
   "execution_count": 6,
   "metadata": {},
   "outputs": [],
   "source": [
    "model.eval()\n",
    "import torch\n",
    "from torch import Tensor\n",
    "from torch.utils.mobile_optimizer import optimize_for_mobile\n",
    "\n",
    "class BTSDetect(torch.nn.Module):\n",
    "    def __init__(self, model):\n",
    "        super().__init__()\n",
    "        self.model = model\n",
    "    \n",
    "    def forward(self, wavforms: Tensor):\n",
    "        logits, _ = self.model(wavforms)\n",
    "        _, pred = logits.max(dim=1)\n",
    "        if pred:\n",
    "            return 0 # bonafide\n",
    "        else:\n",
    "            return 1 # fake\n",
    "        \n",
    "# Load the audio file that we need to check whether it is fake voice or not.\n",
    "wav = \"/dataa/phucdt/bio/test_data/LA_E_1665632.flac\" # bonafide\n",
    "wav = \"/dataa/phucdt/bio/test_data/LA_E_5085671.flac\" # spoof\n",
    "\n",
    "_model = BTSDetect(model)\n",
    "# # Apply quantization / script / optimize for motbile\n",
    "\n",
    "quantized_model = torch.quantization.quantize_dynamic(\n",
    "    _model, qconfig_spec={torch.nn.Linear}, dtype=torch.qint8)\n",
    "scripted_model = torch.jit.script(quantized_model)\n",
    "optimized_model = optimize_for_mobile(scripted_model)\n",
    "\n",
    "\n",
    "# Sanity check\n",
    "\n",
    "# print('Result:', optimized_model(x_inp))"
   ]
  },
  {
   "cell_type": "code",
   "execution_count": null,
   "metadata": {},
   "outputs": [],
   "source": [
    "model.eval()\n",
    "# Load the audio file that we need to check whether it is fake voice or not.\n",
    "wav = \"/root/dataset/Dataset/ASVspoof/LA/ASVspoof2019_LA_eval/flac/LA_E_5085671.flac\" #spoof\n",
    "#wav = \"/root/dataset/Dataset/ASVspoof/LA/ASVspoof2019_LA_eval/flac/LA_E_1665632.flac\" #bonafides\n",
    "\n",
    "x_inp = parse_input(wav)\n",
    "print(x_inp)\n",
    "# use the model to calculate the prediction value\n",
    "# out, _ = model(x_inp)\n",
    "out, _ = model(x_inp)\n",
    "# Convert into readable format\n",
    "_, pred = out.max(dim=1)\n",
    "if pred:\n",
    "    print(\"bonafide\") #real voice\n",
    "else:\n",
    "    print(\"spoof\") #fake voice"
   ]
  },
  {
   "cell_type": "code",
   "execution_count": 3,
   "metadata": {},
   "outputs": [],
   "source": [
    "import torch\n",
    "from torch import Tensor\n",
    "from torch.utils.mobile_optimizer import optimize_for_mobile\n",
    "import typing"
   ]
  },
  {
   "cell_type": "code",
   "execution_count": 4,
   "metadata": {},
   "outputs": [],
   "source": [
    "class BTSDetect(torch.nn.Module):\n",
    "    def __init__(self, model):\n",
    "        super().__init__()\n",
    "        self.model = model\n",
    "    \n",
    "    def pad(self, x, max_len: int = 64600):\n",
    "        x_len = x.shape[0]\n",
    "\n",
    "        if (x_len>=max_len):\n",
    "            return x[:max_len]\n",
    "        else:\n",
    "            num_repeats = int(max_len/x_len)+1\n",
    "            return x.tile((1, num_repeats))[:, :max_len][0]\n",
    "    \n",
    "    def forward(self, wavforms):\n",
    "        wav_padded = self.pad(wavforms)\n",
    "        logits, _ = self.model(wav_padded)\n",
    "        _, pred = logits.max(dim=1)\n",
    "        if pred:\n",
    "            return 0 # bonafide\n",
    "        else:\n",
    "            return 1 # fake\n",
    "\n",
    "_model = BTSDetect(model)\n"
   ]
  },
  {
   "cell_type": "code",
   "execution_count": 5,
   "metadata": {},
   "outputs": [
    {
     "ename": "",
     "evalue": "",
     "output_type": "error",
     "traceback": [
      "\u001b[1;31mCanceled future for execute_request message before replies were done"
     ]
    },
    {
     "ename": "",
     "evalue": "",
     "output_type": "error",
     "traceback": [
      "\u001b[1;31mThe Kernel crashed while executing code in the the current cell or a previous cell. Please review the code in the cell(s) to identify a possible cause of the failure. Click <a href='https://aka.ms/vscodeJupyterKernelCrash'>here</a> for more info. View Jupyter <a href='command:jupyter.viewOutput'>log</a> for further details."
     ]
    }
   ],
   "source": [
    "# # Apply quantization / script / optimize for motbile\n",
    "_model.eval()\n",
    "quantized_model = torch.quantization.quantize_dynamic(\n",
    "    _model, qconfig_spec={torch.nn.Linear}, dtype=torch.qint8)\n",
    "scripted_model = torch.jit.script(quantized_model)\n",
    "optimized_model = optimize_for_mobile(scripted_model)\n",
    "\n",
    "\n",
    "# Sanity check\n",
    "file_path = \"/dataa/phucdt/bio/test_data/LA_E_1665632.flac\"\n",
    "data, y = librosa.load(file_path, sr=16000)\n",
    "print('Result:', optimized_model(Tensor(data)))\n",
    "optimized_model._save_for_lite_interpreter(\"btsdetect.ptl\")"
   ]
  },
  {
   "cell_type": "code",
   "execution_count": 24,
   "metadata": {},
   "outputs": [
    {
     "name": "stdout",
     "output_type": "stream",
     "text": [
      "데이터 개수 : 71237\n"
     ]
    }
   ],
   "source": [
    "f = open(\"data.txt\", 'r')\n",
    "data = []\n",
    "while True:\n",
    "    line = f.readline().strip()\n",
    "    if not line: break\n",
    "    data.append(line)\n",
    "    #print(line)\n",
    "f.close()\n",
    "print(\"데이터 개수 :\",len(data))"
   ]
  },
  {
   "cell_type": "markdown",
   "metadata": {
    "tags": []
   },
   "source": [
    "# TEST"
   ]
  },
  {
   "cell_type": "code",
   "execution_count": null,
   "metadata": {},
   "outputs": [],
   "source": [
    "def pad(x, max_len=64600):\n",
    "    x_len = x.shape[0]\n",
    "    if x_len >= max_len:\n",
    "        return x[:max_len]\n",
    "    # need to pad\n",
    "    num_repeats = int(max_len / x_len)+1\n",
    "    padded_x = np.tile(x, (1, num_repeats))[:, :max_len][0]\n",
    "    return padded_x\n",
    "\n",
    "def parse_input(file_path):\n",
    "    cut = 64600  # take ~4 sec audio (64600 samples)\n",
    "    X, fs = librosa.load(file_path, sr=16000)\n",
    "    print(X,type(X), \"here\")\n",
    "    X_pad = pad(X, cut)\n",
    "    x_inp = Tensor(X_pad)\n",
    "    print(x_inp,type(x_inp), \"here2\")\n",
    "    return x_inp.unsqueeze(0).to(device)"
   ]
  },
  {
   "cell_type": "code",
   "execution_count": 7,
   "metadata": {},
   "outputs": [
    {
     "name": "stdout",
     "output_type": "stream",
     "text": [
      "tensor([[ 0.0004,  0.0003,  0.0004,  ..., -0.0035,  0.0002, -0.0019]])\n",
      "out =  tensor([[-2.1815e-05, -1.0732e+01]], grad_fn=<LogSoftmaxBackward>) <class 'torch.Tensor'>\n",
      "spoof\n"
     ]
    }
   ],
   "source": [
    "model.eval()\n",
    "# Load the audio file that we need to check whether it is fake voice or not.\n",
    "wav = \"/root/dataset/Dataset/ASVspoof/LA/ASVspoof2019_LA_eval/flac/LA_E_5085671.flac\"\n",
    "# wav = \"/root/dataset/ASVspoof/ASVspoof2021_LA_eval/flac/LA_E_5464494.flac\"\n",
    "# wav = \"/root/dataset/ASVspoof/ASVspoof2021_LA_eval/flac/LA_E_2925019.flac\"\n",
    "\n",
    "# wav = \"/root/dataset/Speech/AIHub_Studio/wavs/01FHSH0028/01FHSH0028_00122.wav\"\n",
    "\n",
    "# wav = \"/root/biological/asvspoof2021/LA/Baseline-RawNet2-bio/Demo/prof_16k.flac\"\n",
    "\n",
    "# Extract the feature of the audio\n",
    "\n",
    "x_inp = parse_input(wav)\n",
    "print(x_inp)\n",
    "# use the model to calculate the prediction value\n",
    "# out, _ = model(x_inp)\n",
    "out, _ = model(x_inp)\n",
    "print(\"out = \",out, type(out))\n",
    "# out = [0.123345135,-0.1234145124]\n",
    "\n",
    "# Convert into readable format\n",
    "_, pred = out.max(dim=1)\n",
    "print(\"pred = \",pred)\n",
    "if pred:\n",
    "    print(\"bonafide\") #real voice\n",
    "else:\n",
    "    print(\"spoof\") #fake voice"
   ]
  },
  {
   "cell_type": "code",
   "execution_count": null,
   "metadata": {},
   "outputs": [],
   "source": []
  }
 ],
 "metadata": {
  "kernelspec": {
   "display_name": "bio",
   "language": "python",
   "name": "python3"
  },
  "language_info": {
   "codemirror_mode": {
    "name": "ipython",
    "version": 3
   },
   "file_extension": ".py",
   "mimetype": "text/x-python",
   "name": "python",
   "nbconvert_exporter": "python",
   "pygments_lexer": "ipython3",
   "version": "3.9.16"
  },
  "vscode": {
   "interpreter": {
    "hash": "86c1bc152aade974d696d2553eb3be94f6dbe0748fda25ff9e7c26ed705e1ff6"
   }
  }
 },
 "nbformat": 4,
 "nbformat_minor": 4
}
