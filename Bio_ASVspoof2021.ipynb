{
 "cells": [
  {
   "cell_type": "code",
   "execution_count": 1,
   "id": "e069f78b-33be-4216-9db6-ff20138a5886",
   "metadata": {},
   "outputs": [
    {
     "name": "stderr",
     "output_type": "stream",
     "text": [
      "/home/phucdt/anaconda3/envs/py37/lib/python3.7/site-packages/tqdm/auto.py:22: TqdmWarning: IProgress not found. Please update jupyter and ipywidgets. See https://ipywidgets.readthedocs.io/en/stable/user_install.html\n",
      "  from .autonotebook import tqdm as notebook_tqdm\n"
     ]
    }
   ],
   "source": [
    "from numpy import reshape\n",
    "import seaborn as sns\n",
    "import pandas as pd  \n",
    "import torch\n",
    "from os import listdir\n",
    "from os.path import isfile, join\n",
    "from tqdm import tqdm"
   ]
  },
  {
   "cell_type": "code",
   "execution_count": 10,
   "id": "45315429",
   "metadata": {},
   "outputs": [
    {
     "name": "stdout",
     "output_type": "stream",
     "text": [
      "<class 'pandas.core.frame.DataFrame'>\n",
      "RangeIndex: 611828 entries, 0 to 611827\n",
      "Data columns (total 13 columns):\n",
      " #   Column       Non-Null Count   Dtype \n",
      "---  ------       --------------   ----- \n",
      " 0   speaker      611828 non-null  object\n",
      " 1   utt          611828 non-null  object\n",
      " 2   compr        611828 non-null  object\n",
      " 3   source       611828 non-null  object\n",
      " 4   attack       611828 non-null  object\n",
      " 5   label        611828 non-null  object\n",
      " 6   trim         611828 non-null  object\n",
      " 7   subset       611828 non-null  object\n",
      " 8   vocoder      611828 non-null  object\n",
      " 9   task         611828 non-null  object\n",
      " 10  team         611828 non-null  object\n",
      " 11  gender-pair  611828 non-null  object\n",
      " 12  language     611828 non-null  object\n",
      "dtypes: object(13)\n",
      "memory usage: 60.7+ MB\n"
     ]
    }
   ],
   "source": [
    "df = pd.read_csv('./asvspoof2021/eval-package/keys/DF/CM/trial_metadata.txt', sep=' ')\n",
    "# df.columns = [\"sid\", \"utt\", \"codec\", \"src\", \"attack\", \"class\", \"silence\", \"subset\", \"vocoder\", \"source_detail_1\", \"source_detail_2\", \"source_detail_3\",\"source_detail_4\"]\n",
    "df.columns = ['speaker', \"utt\", 'compr', 'source', 'attack', 'label', 'trim', 'subset', 'vocoder', 'task', 'team', 'gender-pair', 'language']\n",
    "df.info()"
   ]
  },
  {
   "cell_type": "code",
   "execution_count": 11,
   "id": "e55c31bd",
   "metadata": {},
   "outputs": [
    {
     "data": {
      "text/plain": [
       "array(['Task1-team20', 'Task2-team12', 'A09', 'A12', 'SPO-N12', 'A10',\n",
       "       'Task2-team29', 'SPO-B01', 'HUB-N06', 'Task1-team09', 'SPO-N10',\n",
       "       '-', 'A17', 'Task1-team11', 'A18', 'HUB-N12', 'Task2-team16',\n",
       "       'SPO-N11', 'Task1-team18', 'A08', 'Task1-team33', 'HUB-D04',\n",
       "       'Task2-team24', 'Task2-team07', 'Task2-team02', 'HUB-N11', 'A11',\n",
       "       'SPO-N03', 'HUB-N10', 'Task2-team09', 'HUB-N18', 'Task1-team19',\n",
       "       'A19', 'A16', 'Task1-team23', 'SPO-N18', 'SPO-N06', 'Task1-team27',\n",
       "       'Task2-team11', 'SPO-N13', 'Task1-team12', 'HUB-D02', 'A13',\n",
       "       'HUB-D03', 'Task2-team13', 'HUB-N20', 'Task1-team07', 'SPO-N05',\n",
       "       'HUB-N16', 'HUB-N08', 'Task1-team01', 'A07', 'HUB-N07',\n",
       "       'Task2-team22', 'Task1-team21', 'HUB-N15', 'Task2-team19',\n",
       "       'Task2-team20', 'Task2-team31', 'HUB-N17', 'Task1-team02',\n",
       "       'Task1-team25', 'Task1-team29', 'Task2-team05', 'HUB-D01',\n",
       "       'Task1-team28', 'SPO-N04', 'Task1-team04', 'Task2-team08',\n",
       "       'Task1-team08', 'Task1-team14', 'Task2-team15', 'A15', 'HUB-B01',\n",
       "       'Task2-team26', 'Task2-team03', 'Task2-team10', 'Task2-team30',\n",
       "       'Task2-team23', 'HUB-N14', 'HUB-D05', 'HUB-N13', 'Task2-team25',\n",
       "       'HUB-N05', 'HUB-N19', 'Task1-team13', 'Task2-team32',\n",
       "       'Task1-team03', 'SPO-N17', 'Task2-team28', 'HUB-B00', 'SPO-N16',\n",
       "       'Task1-team32', 'Task1-team17', 'HUB-N04', 'HUB-N03',\n",
       "       'Task1-team31', 'Task1-team10', 'HUB-N09', 'Task2-team33',\n",
       "       'Task2-team18', 'Task1-team30', 'Task1-team16', 'A14',\n",
       "       'Task1-team26', 'Task2-team27', 'SPO-B00', 'Task1-team06',\n",
       "       'Task2-team06', 'Task1-team22', 'Task1-team24'], dtype=object)"
      ]
     },
     "execution_count": 11,
     "metadata": {},
     "output_type": "execute_result"
    }
   ],
   "source": [
    "# list all attack type\n",
    "pd.unique(df[\"attack\"])\n"
   ]
  },
  {
   "cell_type": "code",
   "execution_count": 12,
   "id": "a5a2b434",
   "metadata": {},
   "outputs": [
    {
     "data": {
      "text/plain": [
       "array(['vcc2020', 'asvspoof', 'vcc2018'], dtype=object)"
      ]
     },
     "execution_count": 12,
     "metadata": {},
     "output_type": "execute_result"
    }
   ],
   "source": [
    "pd.unique(df[\"source\"])"
   ]
  },
  {
   "cell_type": "code",
   "execution_count": 3,
   "id": "a639560f-a181-49a7-b4f8-ae7709957e99",
   "metadata": {},
   "outputs": [
    {
     "name": "stderr",
     "output_type": "stream",
     "text": [
      " 10%|▉         | 4812/50224 [01:58<20:02, 37.75it/s]  "
     ]
    }
   ],
   "source": [
    "mypath = \"./asvspoof2021/LA/Baseline-RawNet2-bio/feats/eval_2021/\"\n",
    "onlyfiles = [f for f in listdir(mypath) if (isfile(join(mypath, f)) and \"DF_E\" in f)] #LA_E\n",
    "feat = pd.DataFrame()\n",
    "# feat.columns = [\"utt\", \"feats\"]\n",
    "\n",
    "for f in tqdm(onlyfiles):\n",
    "    # print(f)\n",
    "    bio_inp = torch.load(join(mypath, f)).cpu().detach().numpy()\n",
    "    feat = feat.append({\"utt\": f, \"feats\": bio_inp}, ignore_index=True)\n",
    "    # print(bio_inp)\n",
    "    \n",
    "# feat.head()\n"
   ]
  },
  {
   "cell_type": "code",
   "execution_count": 5,
   "id": "16992053-69ee-4520-8aef-45d40f424c8c",
   "metadata": {},
   "outputs": [
    {
     "data": {
      "text/html": [
       "<div>\n",
       "<style scoped>\n",
       "    .dataframe tbody tr th:only-of-type {\n",
       "        vertical-align: middle;\n",
       "    }\n",
       "\n",
       "    .dataframe tbody tr th {\n",
       "        vertical-align: top;\n",
       "    }\n",
       "\n",
       "    .dataframe thead th {\n",
       "        text-align: right;\n",
       "    }\n",
       "</style>\n",
       "<table border=\"1\" class=\"dataframe\">\n",
       "  <thead>\n",
       "    <tr style=\"text-align: right;\">\n",
       "      <th></th>\n",
       "      <th>sid</th>\n",
       "      <th>utt</th>\n",
       "      <th>phy</th>\n",
       "      <th>attack</th>\n",
       "      <th>class</th>\n",
       "      <th>feats</th>\n",
       "    </tr>\n",
       "  </thead>\n",
       "  <tbody>\n",
       "    <tr>\n",
       "      <th>0</th>\n",
       "      <td>LA_0014</td>\n",
       "      <td>LA_E_8877452</td>\n",
       "      <td>-</td>\n",
       "      <td>A14</td>\n",
       "      <td>spoof</td>\n",
       "      <td>NaN</td>\n",
       "    </tr>\n",
       "    <tr>\n",
       "      <th>1</th>\n",
       "      <td>LA_0040</td>\n",
       "      <td>LA_E_6828287</td>\n",
       "      <td>-</td>\n",
       "      <td>A16</td>\n",
       "      <td>spoof</td>\n",
       "      <td>NaN</td>\n",
       "    </tr>\n",
       "    <tr>\n",
       "      <th>2</th>\n",
       "      <td>LA_0022</td>\n",
       "      <td>LA_E_6977360</td>\n",
       "      <td>-</td>\n",
       "      <td>A09</td>\n",
       "      <td>spoof</td>\n",
       "      <td>NaN</td>\n",
       "    </tr>\n",
       "    <tr>\n",
       "      <th>3</th>\n",
       "      <td>LA_0031</td>\n",
       "      <td>LA_E_5932896</td>\n",
       "      <td>-</td>\n",
       "      <td>A13</td>\n",
       "      <td>spoof</td>\n",
       "      <td>NaN</td>\n",
       "    </tr>\n",
       "    <tr>\n",
       "      <th>4</th>\n",
       "      <td>LA_0030</td>\n",
       "      <td>LA_E_5849185</td>\n",
       "      <td>-</td>\n",
       "      <td>-</td>\n",
       "      <td>bonafide</td>\n",
       "      <td>NaN</td>\n",
       "    </tr>\n",
       "  </tbody>\n",
       "</table>\n",
       "</div>"
      ],
      "text/plain": [
       "       sid           utt phy attack     class feats\n",
       "0  LA_0014  LA_E_8877452   -    A14     spoof   NaN\n",
       "1  LA_0040  LA_E_6828287   -    A16     spoof   NaN\n",
       "2  LA_0022  LA_E_6977360   -    A09     spoof   NaN\n",
       "3  LA_0031  LA_E_5932896   -    A13     spoof   NaN\n",
       "4  LA_0030  LA_E_5849185   -      -  bonafide   NaN"
      ]
     },
     "execution_count": 5,
     "metadata": {},
     "output_type": "execute_result"
    }
   ],
   "source": [
    "full = df.join(feat.set_index('utt'), on=\"utt\")\n",
    "tts_full_train = full.loc[~full[\"attack\"].str.contains(\"A05\") & ~full[\"attack\"].str.contains(\"A06\")]\n",
    "tts_full_train.head()"
   ]
  },
  {
   "cell_type": "code",
   "execution_count": 13,
   "id": "6599ab97-9ca7-49a2-85c4-4cd06023412e",
   "metadata": {},
   "outputs": [
    {
     "name": "stdout",
     "output_type": "stream",
     "text": [
      "<class 'pandas.core.frame.DataFrame'>\n",
      "RangeIndex: 25379 entries, 0 to 25378\n",
      "Data columns (total 6 columns):\n",
      " #   Column  Non-Null Count  Dtype \n",
      "---  ------  --------------  ----- \n",
      " 0   sid     25379 non-null  object\n",
      " 1   utt     25379 non-null  object\n",
      " 2   phy     25379 non-null  object\n",
      " 3   attack  25379 non-null  object\n",
      " 4   class   25379 non-null  object\n",
      " 5   feats   25379 non-null  object\n",
      "dtypes: object(6)\n",
      "memory usage: 1.2+ MB\n",
      "<class 'pandas.core.frame.DataFrame'>\n",
      "Int64Index: 17779 entries, 0 to 17778\n",
      "Data columns (total 6 columns):\n",
      " #   Column  Non-Null Count  Dtype \n",
      "---  ------  --------------  ----- \n",
      " 0   sid     17779 non-null  object\n",
      " 1   utt     17779 non-null  object\n",
      " 2   phy     17779 non-null  object\n",
      " 3   attack  17779 non-null  object\n",
      " 4   class   17779 non-null  object\n",
      " 5   feats   17779 non-null  object\n",
      "dtypes: object(6)\n",
      "memory usage: 972.3+ KB\n"
     ]
    }
   ],
   "source": [
    "df = pd.read_csv('/root/dataset/ASVspoof/LA/ASVspoof2019_LA_cm_protocols/ASVspoof2019.LA.cm.train.trn.txt', sep=' ')\n",
    "df.columns = [\"sid\", \"utt\", \"phy\", \"attack\", \"class\"]\n",
    "full = df.join(feat.set_index('utt'), on=\"utt\")\n",
    "full.info()\n",
    "tts_full_train = full.loc[~full[\"attack\"].str.contains(\"A05\") & ~full[\"attack\"].str.contains(\"A06\")]\n",
    "tts_full_train.info()"
   ]
  },
  {
   "cell_type": "code",
   "execution_count": 14,
   "id": "0c5b3ff2-7c40-4537-b521-8641f4fccb55",
   "metadata": {},
   "outputs": [
    {
     "name": "stdout",
     "output_type": "stream",
     "text": [
      "<class 'pandas.core.frame.DataFrame'>\n",
      "RangeIndex: 24843 entries, 0 to 24842\n",
      "Data columns (total 6 columns):\n",
      " #   Column  Non-Null Count  Dtype \n",
      "---  ------  --------------  ----- \n",
      " 0   sid     24843 non-null  object\n",
      " 1   utt     24843 non-null  object\n",
      " 2   phy     24843 non-null  object\n",
      " 3   attack  24843 non-null  object\n",
      " 4   class   24843 non-null  object\n",
      " 5   feats   24843 non-null  object\n",
      "dtypes: object(6)\n",
      "memory usage: 1.1+ MB\n",
      "<class 'pandas.core.frame.DataFrame'>\n",
      "Int64Index: 17411 entries, 0 to 17410\n",
      "Data columns (total 6 columns):\n",
      " #   Column  Non-Null Count  Dtype \n",
      "---  ------  --------------  ----- \n",
      " 0   sid     17411 non-null  object\n",
      " 1   utt     17411 non-null  object\n",
      " 2   phy     17411 non-null  object\n",
      " 3   attack  17411 non-null  object\n",
      " 4   class   17411 non-null  object\n",
      " 5   feats   17411 non-null  object\n",
      "dtypes: object(6)\n",
      "memory usage: 952.2+ KB\n"
     ]
    }
   ],
   "source": [
    "df = pd.read_csv('/root/dataset/ASVspoof/LA/ASVspoof2019_LA_cm_protocols/ASVspoof2019.LA.cm.dev.trl.txt', sep=' ')\n",
    "df.columns = [\"sid\", \"utt\", \"phy\", \"attack\", \"class\"]\n",
    "full = df.join(feat.set_index('utt'), on=\"utt\")\n",
    "full.info()\n",
    "tts_full_dev = full.loc[~full[\"attack\"].str.contains(\"A05\") & ~full[\"attack\"].str.contains(\"A06\")]\n",
    "tts_full_dev.info()"
   ]
  },
  {
   "cell_type": "code",
   "execution_count": 39,
   "id": "f7f9d9d4-1e63-4e1f-9cd8-9304ee19c8ba",
   "metadata": {},
   "outputs": [
    {
     "data": {
      "text/html": [
       "<div>\n",
       "<style scoped>\n",
       "    .dataframe tbody tr th:only-of-type {\n",
       "        vertical-align: middle;\n",
       "    }\n",
       "\n",
       "    .dataframe tbody tr th {\n",
       "        vertical-align: top;\n",
       "    }\n",
       "\n",
       "    .dataframe thead th {\n",
       "        text-align: right;\n",
       "    }\n",
       "</style>\n",
       "<table border=\"1\" class=\"dataframe\">\n",
       "  <thead>\n",
       "    <tr style=\"text-align: right;\">\n",
       "      <th></th>\n",
       "      <th>sid</th>\n",
       "      <th>utt</th>\n",
       "      <th>phy</th>\n",
       "      <th>attack</th>\n",
       "      <th>class</th>\n",
       "      <th>feats</th>\n",
       "    </tr>\n",
       "  </thead>\n",
       "  <tbody>\n",
       "    <tr>\n",
       "      <th>0</th>\n",
       "      <td>LA_0069</td>\n",
       "      <td>LA_D_1105538</td>\n",
       "      <td>-</td>\n",
       "      <td>-</td>\n",
       "      <td>bonafide</td>\n",
       "      <td>[1, 1, 1, 1, 1, 1, 1, 1, 1, 1, 1, 1, 1, 1, 1, ...</td>\n",
       "    </tr>\n",
       "    <tr>\n",
       "      <th>1</th>\n",
       "      <td>LA_0069</td>\n",
       "      <td>LA_D_1125976</td>\n",
       "      <td>-</td>\n",
       "      <td>-</td>\n",
       "      <td>bonafide</td>\n",
       "      <td>[1, 1, 1, 1, 1, 1, 1, 1, 1, 1, 1, 1, 1, 1, 1, ...</td>\n",
       "    </tr>\n",
       "    <tr>\n",
       "      <th>2</th>\n",
       "      <td>LA_0069</td>\n",
       "      <td>LA_D_1293230</td>\n",
       "      <td>-</td>\n",
       "      <td>-</td>\n",
       "      <td>bonafide</td>\n",
       "      <td>[0, 0, 0, 0, 0, 0, 0, 0, 0, 0, 0, 0, 0, 0, 0, ...</td>\n",
       "    </tr>\n",
       "    <tr>\n",
       "      <th>3</th>\n",
       "      <td>LA_0069</td>\n",
       "      <td>LA_D_1340209</td>\n",
       "      <td>-</td>\n",
       "      <td>-</td>\n",
       "      <td>bonafide</td>\n",
       "      <td>[0, 0, 0, 0, 0, 0, 0, 0, 0, 0, 0, 0, 0, 0, 0, ...</td>\n",
       "    </tr>\n",
       "    <tr>\n",
       "      <th>4</th>\n",
       "      <td>LA_0069</td>\n",
       "      <td>LA_D_1376638</td>\n",
       "      <td>-</td>\n",
       "      <td>-</td>\n",
       "      <td>bonafide</td>\n",
       "      <td>[1, 1, 1, 1, 1, 1, 1, 1, 1, 1, 1, 1, 1, 1, 1, ...</td>\n",
       "    </tr>\n",
       "  </tbody>\n",
       "</table>\n",
       "</div>"
      ],
      "text/plain": [
       "       sid           utt phy attack     class  \\\n",
       "0  LA_0069  LA_D_1105538   -      -  bonafide   \n",
       "1  LA_0069  LA_D_1125976   -      -  bonafide   \n",
       "2  LA_0069  LA_D_1293230   -      -  bonafide   \n",
       "3  LA_0069  LA_D_1340209   -      -  bonafide   \n",
       "4  LA_0069  LA_D_1376638   -      -  bonafide   \n",
       "\n",
       "                                               feats  \n",
       "0  [1, 1, 1, 1, 1, 1, 1, 1, 1, 1, 1, 1, 1, 1, 1, ...  \n",
       "1  [1, 1, 1, 1, 1, 1, 1, 1, 1, 1, 1, 1, 1, 1, 1, ...  \n",
       "2  [0, 0, 0, 0, 0, 0, 0, 0, 0, 0, 0, 0, 0, 0, 0, ...  \n",
       "3  [0, 0, 0, 0, 0, 0, 0, 0, 0, 0, 0, 0, 0, 0, 0, ...  \n",
       "4  [1, 1, 1, 1, 1, 1, 1, 1, 1, 1, 1, 1, 1, 1, 1, ...  "
      ]
     },
     "execution_count": 39,
     "metadata": {},
     "output_type": "execute_result"
    }
   ],
   "source": [
    "tts_full_dev.head()"
   ]
  },
  {
   "cell_type": "code",
   "execution_count": 20,
   "id": "256a25a4-e566-40c1-957a-d4da980150c6",
   "metadata": {},
   "outputs": [],
   "source": [
    "from sklearn.manifold import TSNE\n",
    "import matplotlib.pyplot as plt"
   ]
  },
  {
   "cell_type": "code",
   "execution_count": 30,
   "id": "82bfb20d-3dae-4ce1-8d76-ec43359128f8",
   "metadata": {},
   "outputs": [
    {
     "name": "stdout",
     "output_type": "stream",
     "text": [
      "[t-SNE] Computing 91 nearest neighbors...\n",
      "[t-SNE] Indexed 17411 samples in 0.454s...\n",
      "[t-SNE] Computed neighbors for 17411 samples in 142.630s...\n",
      "[t-SNE] Computed conditional probabilities for sample 1000 / 17411\n",
      "[t-SNE] Computed conditional probabilities for sample 2000 / 17411\n",
      "[t-SNE] Computed conditional probabilities for sample 3000 / 17411\n",
      "[t-SNE] Computed conditional probabilities for sample 4000 / 17411\n",
      "[t-SNE] Computed conditional probabilities for sample 5000 / 17411\n",
      "[t-SNE] Computed conditional probabilities for sample 6000 / 17411\n",
      "[t-SNE] Computed conditional probabilities for sample 7000 / 17411\n",
      "[t-SNE] Computed conditional probabilities for sample 8000 / 17411\n",
      "[t-SNE] Computed conditional probabilities for sample 9000 / 17411\n",
      "[t-SNE] Computed conditional probabilities for sample 10000 / 17411\n",
      "[t-SNE] Computed conditional probabilities for sample 11000 / 17411\n",
      "[t-SNE] Computed conditional probabilities for sample 12000 / 17411\n",
      "[t-SNE] Computed conditional probabilities for sample 13000 / 17411\n",
      "[t-SNE] Computed conditional probabilities for sample 14000 / 17411\n",
      "[t-SNE] Computed conditional probabilities for sample 15000 / 17411\n",
      "[t-SNE] Computed conditional probabilities for sample 16000 / 17411\n",
      "[t-SNE] Computed conditional probabilities for sample 17000 / 17411\n",
      "[t-SNE] Computed conditional probabilities for sample 17411 / 17411\n",
      "[t-SNE] Mean sigma: 2.655229\n",
      "[t-SNE] KL divergence after 250 iterations with early exaggeration: 83.783112\n",
      "[t-SNE] KL divergence after 1000 iterations: 1.850757\n"
     ]
    }
   ],
   "source": [
    "x = tts_full_dev[\"feats\"].to_numpy()\n",
    "y = tts_full_dev[\"class\"].to_list()\n",
    "y = tts_full_dev[\"attack\"].replace(\"A05\", \"VC\").replace(\"A06\", \"VC\").replace(\"A01\", \"TTS\").replace(\"A02\", \"TTS\").replace(\"A03\", \"TTS\").replace(\"A04\", \"TTS\").replace(\"-\",\"bonafide\")\n",
    "\n",
    "tsne = TSNE(n_components=2, verbose=1, random_state=123)\n",
    "# tsne = TSNE(n_components=2, perplexity=15, learning_rate=10)\n",
    "z = tsne.fit_transform(x)"
   ]
  },
  {
   "cell_type": "code",
   "execution_count": null,
   "id": "5e0ed81b-97a0-4fed-9bbf-433bee088b70",
   "metadata": {},
   "outputs": [],
   "source": [
    "x"
   ]
  },
  {
   "cell_type": "code",
   "execution_count": 23,
   "id": "e8637f2c-5dc7-4edf-96a3-08bf32d906bf",
   "metadata": {},
   "outputs": [
    {
     "data": {
      "image/png": "[encoded data removed]",
      "text/plain": [
       "<Figure size 432x288 with 1 Axes>"
      ]
     },
     "metadata": {
      "needs_background": "light"
     },
     "output_type": "display_data"
    }
   ],
   "source": [
    "dff = pd.DataFrame()\n",
    "dff[\"y\"] = y\n",
    "dff[\"comp-1\"] = z[:,0]l\n",
    "dff[\"comp-2\"] = z[:,1]\n",
    "\n",
    "sns.scatterplot(x=\"comp-1\", y=\"comp-2\", hue=dff.y.tolist(),\n",
    "                palette=sns.color_palette(\"hls\", 2),\n",
    "                data=dff).set(title=\"\") \n",
    "plt.savefig('tts_and_bonafide_dev_2019.png',dpi=600)"
   ]
  },
  {
   "cell_type": "code",
   "execution_count": null,
   "id": "0a0a5c37-9223-4a84-83b5-93cc09dfa39a",
   "metadata": {},
   "outputs": [],
   "source": [
    "from sklearn.ensemble import RandomForestClassifier\n",
    "clf = RandomForestClassifier(n_estimators=100, random_state=0, n_jobs=-1)\n"
   ]
  },
  {
   "cell_type": "code",
   "execution_count": null,
   "id": "c9471946-f646-4ad6-97c8-f43411ea696b",
   "metadata": {},
   "outputs": [
    {
     "data": {
      "text/plain": [
       "RandomForestClassifier(bootstrap=True, ccp_alpha=0.0, class_weight=None,\n",
       "                       criterion='gini', max_depth=None, max_features='auto',\n",
       "                       max_leaf_nodes=None, max_samples=None,\n",
       "                       min_impurity_decrease=0.0, min_impurity_split=None,\n",
       "                       min_samples_leaf=1, min_samples_split=2,\n",
       "                       min_weight_fraction_leaf=0.0, n_estimators=100,\n",
       "                       n_jobs=-1, oob_score=False, random_state=0, verbose=0,\n",
       "                       warm_start=False)"
      ]
     },
     "execution_count": 13,
     "metadata": {},
     "output_type": "execute_result"
    }
   ],
   "source": [
    "dev_train = tts_full_train.append(tts_full_dev)\n",
    "X = dev_train['feats'].to_list()\n",
    "Y = dev_train['class'].to_numpy()\n",
    "clf.fit(X,Y)"
   ]
  },
  {
   "cell_type": "code",
   "execution_count": null,
   "id": "73d433ec-336e-41cc-8027-e07920f1e741",
   "metadata": {},
   "outputs": [
    {
     "data": {
      "text/plain": [
       "1.0"
      ]
     },
     "execution_count": 14,
     "metadata": {},
     "output_type": "execute_result"
    }
   ],
   "source": [
    "X_test = tts_full_dev['feats'].to_list()\n",
    "Y_test = tts_full_dev['class'].to_numpy()\n",
    "clf.score(X_test, Y_test)"
   ]
  },
  {
   "cell_type": "code",
   "execution_count": null,
   "id": "4c62a278-8dde-466f-9447-9145cd2f6cf6",
   "metadata": {},
   "outputs": [
    {
     "name": "stderr",
     "output_type": "stream",
     "text": [
      "100%|██████████| 71237/71237 [04:09<00:00, 285.60it/s]\n"
     ]
    }
   ],
   "source": [
    "mypath = \"/root/biological/asvspoof2021/LA/Baseline-RawNet2-bio/feats/eval_2019/\"\n",
    "onlyfiles = [f for f in listdir(mypath) if isfile(join(mypath, f))]\n",
    "df = pd.read_csv('/root/dataset/ASVspoof/LA/ASVspoof2019_LA_cm_protocols/ASVspoof2019.LA.cm.eval.trl.txt', sep=' ')\n",
    "df.columns = [\"sid\", \"utt\", \"phy\", \"attack\", \"class\"]\n",
    "feat = pd.DataFrame()\n",
    "# feat.columns = [\"utt\", \"feats\"]\n",
    "\n",
    "for f in tqdm(onlyfiles):\n",
    "    # print(f)\n",
    "    bio_inp = torch.load(join(mypath, f)).cpu().detach().numpy()\n",
    "    feat = feat.append({\"utt\": f, \"feats\": bio_inp}, ignore_index=True)\n",
    "    # print(bio_inp)\n",
    "    \n",
    "feat.head()\n",
    "full = df.join(feat.set_index('utt'), on=\"utt\")"
   ]
  },
  {
   "cell_type": "code",
   "execution_count": 84,
   "id": "a433e317-ac02-4b1f-86b9-299f359f7081",
   "metadata": {},
   "outputs": [
    {
     "data": {
      "text/plain": [
       "0.9895210110808227"
      ]
     },
     "execution_count": 85,
     "metadata": {},
     "output_type": "execute_result"
    }
   ],
   "source": [
    "tts_full = full.loc[~full[\"attack\"].str.contains(\"A17\") & ~full[\"attack\"].str.contains(\"A18\") & ~full[\"attack\"].str.contains(\"A19\")]\n",
    "tts_full.head()\n",
    "X_eval = tts_full['feats'].to_list()\n",
    "Y_eval = tts_full['class'].to_numpy()\n",
    "clf.score(X_eval, Y_eval)\n"
   ]
  },
  {
   "cell_type": "code",
   "execution_count": 96,
   "id": "204606cc-136c-4bde-8a07-ecb544de860d",
   "metadata": {
    "scrolled": true,
    "tags": []
   },
   "outputs": [
    {
     "name": "stderr",
     "output_type": "stream",
     "text": [
      "/opt/conda/lib/python3.6/site-packages/sklearn/ensemble/_forest.py:704: RuntimeWarning: divide by zero encountered in log\n",
      "  return np.log(proba)\n",
      "\n",
      "\n",
      "\n",
      "0it [00:00, ?it/s]\u001b[A\u001b[A\u001b[A\n",
      "\n",
      "\n",
      "811it [00:00, 8109.95it/s]\u001b[A\u001b[A\u001b[A\n",
      "\n",
      "\n",
      "1763it [00:00, 8485.95it/s]\u001b[A\u001b[A\u001b[A\n",
      "\n",
      "\n",
      "2348it [00:00, 7474.87it/s]\u001b[A\u001b[A\u001b[A\n",
      "\n",
      "\n",
      "3291it [00:00, 7968.87it/s]\u001b[A\u001b[A\u001b[A\n",
      "\n",
      "\n",
      "4073it [00:00, 7921.56it/s]\u001b[A\u001b[A\u001b[A\n",
      "\n",
      "\n",
      "4860it [00:00, 7905.45it/s]\u001b[A\u001b[A\u001b[A\n",
      "\n",
      "\n",
      "5617it [00:00, 7800.43it/s]\u001b[A\u001b[A\u001b[A\n",
      "\n",
      "\n",
      "6559it [00:00, 8223.97it/s]\u001b[A\u001b[A\u001b[A\n",
      "\n",
      "\n",
      "7500it [00:00, 8546.35it/s]\u001b[A\u001b[A\u001b[A\n",
      "\n",
      "\n",
      "8444it [00:01, 8794.81it/s]\u001b[A\u001b[A\u001b[A\n",
      "\n",
      "\n",
      "9389it [00:01, 8980.65it/s]\u001b[A\u001b[A\u001b[A\n",
      "\n",
      "\n",
      "10280it [00:01, 8625.32it/s]\u001b[A\u001b[A\u001b[A\n",
      "\n",
      "\n",
      "11141it [00:01, 8248.10it/s]\u001b[A\u001b[A\u001b[A\n",
      "\n",
      "\n",
      "12077it [00:01, 8551.53it/s]\u001b[A\u001b[A\u001b[A\n",
      "\n",
      "\n",
      "12937it [00:01, 8252.47it/s]\u001b[A\u001b[A\u001b[A\n",
      "\n",
      "\n",
      "13768it [00:01, 8102.03it/s]\u001b[A\u001b[A\u001b[A\n",
      "\n",
      "\n",
      "14583it [00:01, 7378.75it/s]\u001b[A\u001b[A\u001b[A\n",
      "\n",
      "\n",
      "15337it [00:02, 4756.05it/s]\u001b[A\u001b[A\u001b[A\n",
      "\n",
      "\n",
      "15943it [00:02, 3719.08it/s]\u001b[A\u001b[A\u001b[A\n",
      "\n",
      "\n",
      "16441it [00:02, 3256.52it/s]\u001b[A\u001b[A\u001b[A\n",
      "\n",
      "\n",
      "16866it [00:02, 3145.22it/s]\u001b[A\u001b[A\u001b[A\n",
      "\n",
      "\n",
      "17485it [00:02, 3689.35it/s]\u001b[A\u001b[A\u001b[A\n",
      "\n",
      "\n",
      "18455it [00:02, 4531.37it/s]\u001b[A\u001b[A\u001b[A\n",
      "\n",
      "\n",
      "19129it [00:02, 5024.07it/s]\u001b[A\u001b[A\u001b[A\n",
      "\n",
      "\n",
      "20073it [00:03, 5844.19it/s]\u001b[A\u001b[A\u001b[A\n",
      "\n",
      "\n",
      "20796it [00:03, 5942.01it/s]\u001b[A\u001b[A\u001b[A\n",
      "\n",
      "\n",
      "21488it [00:03, 6151.39it/s]\u001b[A\u001b[A\u001b[A\n",
      "\n",
      "\n",
      "22410it [00:03, 6832.34it/s]\u001b[A\u001b[A\u001b[A\n",
      "\n",
      "\n",
      "23204it [00:03, 7128.53it/s]\u001b[A\u001b[A\u001b[A\n",
      "\n",
      "\n",
      "24081it [00:03, 7551.00it/s]\u001b[A\u001b[A\u001b[A\n",
      "\n",
      "\n",
      "25019it [00:03, 8018.96it/s]\u001b[A\u001b[A\u001b[A\n",
      "\n",
      "\n",
      "25963it [00:03, 8396.65it/s]\u001b[A\u001b[A\u001b[A\n",
      "\n",
      "\n",
      "26907it [00:03, 8682.36it/s]\u001b[A\u001b[A\u001b[A\n",
      "\n",
      "\n",
      "27850it [00:03, 8892.41it/s]\u001b[A\u001b[A\u001b[A\n",
      "\n",
      "\n",
      "28791it [00:04, 9041.35it/s]\u001b[A\u001b[A\u001b[A\n",
      "\n",
      "\n",
      "29709it [00:04, 8639.86it/s]\u001b[A\u001b[A\u001b[A\n",
      "\n",
      "\n",
      "30624it [00:04, 8786.19it/s]\u001b[A\u001b[A\u001b[A\n",
      "\n",
      "\n",
      "31513it [00:04, 8297.76it/s]\u001b[A\u001b[A\u001b[A\n",
      "\n",
      "\n",
      "32356it [00:04, 6290.78it/s]\u001b[A\u001b[A\u001b[A\n",
      "\n",
      "\n",
      "33067it [00:04, 4352.15it/s]\u001b[A\u001b[A\u001b[A\n",
      "\n",
      "\n",
      "33641it [00:05, 3478.66it/s]\u001b[A\u001b[A\u001b[A\n",
      "\n",
      "\n",
      "34114it [00:05, 3076.21it/s]\u001b[A\u001b[A\u001b[A\n",
      "\n",
      "\n",
      "34518it [00:05, 3011.81it/s]\u001b[A\u001b[A\u001b[A\n",
      "\n",
      "\n",
      "35105it [00:05, 3526.19it/s]\u001b[A\u001b[A\u001b[A\n",
      "\n",
      "\n",
      "36017it [00:05, 4321.27it/s]\u001b[A\u001b[A\u001b[A\n",
      "\n",
      "\n",
      "36988it [00:05, 5184.40it/s]\u001b[A\u001b[A\u001b[A\n",
      "\n",
      "\n",
      "37925it [00:05, 5986.25it/s]\u001b[A\u001b[A\u001b[A\n",
      "\n",
      "\n",
      "38895it [00:05, 6762.56it/s]\u001b[A\u001b[A\u001b[A\n",
      "\n",
      "\n",
      "39724it [00:06, 6940.15it/s]\u001b[A\u001b[A\u001b[A\n",
      "\n",
      "\n",
      "40689it [00:06, 7577.13it/s]\u001b[A\u001b[A\u001b[A\n",
      "\n",
      "\n",
      "41631it [00:06, 8049.24it/s]\u001b[A\u001b[A\u001b[A\n",
      "\n",
      "\n",
      "42576it [00:06, 8423.64it/s]\u001b[A\u001b[A\u001b[A\n",
      "\n",
      "\n",
      "43523it [00:06, 8710.38it/s]\u001b[A\u001b[A\u001b[A\n",
      "\n",
      "\n",
      "44468it [00:06, 8919.47it/s]\u001b[A\u001b[A\u001b[A\n",
      "\n",
      "\n",
      "45403it [00:06, 9041.49it/s]\u001b[A\u001b[A\u001b[A\n",
      "\n",
      "\n",
      "46338it [00:06, 9130.34it/s]\u001b[A\u001b[A\u001b[A\n",
      "\n",
      "\n",
      "47272it [00:06, 9191.23it/s]\u001b[A\u001b[A\u001b[A\n",
      "\n",
      "\n",
      "48202it [00:07, 8666.24it/s]\u001b[A\u001b[A\u001b[A\n",
      "\n",
      "\n",
      "49141it [00:07, 8870.47it/s]\u001b[A\u001b[A\u001b[A\n",
      "\n",
      "\n",
      "50039it [00:07, 8438.50it/s]\u001b[A\u001b[A\u001b[A\n",
      "\n",
      "\n",
      "50895it [00:07, 5974.06it/s]\u001b[A\u001b[A\u001b[A\n",
      "\n",
      "\n",
      "51601it [00:07, 4049.52it/s]\u001b[A\u001b[A\u001b[A\n",
      "\n",
      "\n",
      "52165it [00:08, 3279.76it/s]\u001b[A\u001b[A\u001b[A\n",
      "\n",
      "\n",
      "52628it [00:08, 2638.54it/s]\u001b[A\u001b[A\u001b[A\n",
      "\n",
      "\n",
      "53007it [00:08, 2813.20it/s]\u001b[A\u001b[A\u001b[A\n",
      "\n",
      "\n",
      "53545it [00:08, 3282.47it/s]\u001b[A\u001b[A\u001b[A\n",
      "\n",
      "\n",
      "54295it [00:08, 3948.26it/s]\u001b[A\u001b[A\u001b[A\n",
      "\n",
      "\n",
      "55266it [00:08, 4803.16it/s]\u001b[A\u001b[A\u001b[A\n",
      "\n",
      "\n",
      "56494it [00:08, 6392.27it/s]\u001b[A\u001b[A\u001b[A\n"
     ]
    }
   ],
   "source": [
    "# write score to file:\n",
    "sco = clf.predict_log_proba(tts_full['feats'].to_list())\n",
    "i=0\n",
    "with open(\"/root/biological/bio_ML_2019.txt\", \"a+\") as f:\n",
    "    for index, row in tqdm(tts_full.iterrows()):\n",
    "        key = row['class']\n",
    "        utt = row['utt']\n",
    "        src = row['attack']\n",
    "        # sco = clf.predict_log_proba([row['feats']])\n",
    "        f.write(\"{} {} {} {}\\n\".format(utt, src, key, sco[i][0]))\n",
    "        i=i+1\n",
    "f.close()"
   ]
  },
  {
   "cell_type": "markdown",
   "id": "98863611-81b0-4ad4-973a-3f5d0030bb8d",
   "metadata": {},
   "source": [
    "# SVM"
   ]
  },
  {
   "cell_type": "code",
   "execution_count": 100,
   "id": "abe0737d-95b2-4ea5-9bf8-de91776ade5b",
   "metadata": {},
   "outputs": [
    {
     "data": {
      "text/plain": [
       "SVC(C=1.0, break_ties=False, cache_size=200, class_weight=None, coef0=0.0,\n",
       "    decision_function_shape='ovr', degree=3, gamma='scale', kernel='rbf',\n",
       "    max_iter=-1, probability=True, random_state=None, shrinking=True, tol=0.001,\n",
       "    verbose=False)"
      ]
     },
     "execution_count": 100,
     "metadata": {},
     "output_type": "execute_result"
    }
   ],
   "source": [
    "from sklearn import svm\n",
    "scl = svm.SVC(probability=True)\n",
    "scl.fit(X,Y)"
   ]
  },
  {
   "cell_type": "code",
   "execution_count": 101,
   "id": "1fbdd4c2-33c7-4a2d-a4ea-b34e037a1501",
   "metadata": {},
   "outputs": [
    {
     "data": {
      "text/plain": [
       "0.9861047190852126"
      ]
     },
     "execution_count": 101,
     "metadata": {},
     "output_type": "execute_result"
    }
   ],
   "source": [
    "scl.score(X_eval, Y_eval)"
   ]
  },
  {
   "cell_type": "code",
   "execution_count": 102,
   "id": "deee95dc-fde1-4953-a56d-cc6cc43af5ae",
   "metadata": {
    "scrolled": true,
    "tags": []
   },
   "outputs": [
    {
     "name": "stderr",
     "output_type": "stream",
     "text": [
      "\n",
      "\n",
      "\n",
      "0it [00:00, ?it/s]\u001b[A\u001b[A\u001b[A\n",
      "\n",
      "\n",
      "927it [00:00, 9266.01it/s]\u001b[A\u001b[A\u001b[A\n",
      "\n",
      "\n",
      "1375it [00:00, 7004.33it/s]\u001b[A\u001b[A\u001b[A\n",
      "\n",
      "\n",
      "1704it [00:00, 4073.76it/s]\u001b[A\u001b[A\u001b[A\n",
      "\n",
      "\n",
      "1996it [00:00, 3537.26it/s]\u001b[A\u001b[A\u001b[A\n",
      "\n",
      "\n",
      "2484it [00:00, 3854.50it/s]\u001b[A\u001b[A\u001b[A\n",
      "\n",
      "\n",
      "2858it [00:00, 3816.93it/s]\u001b[A\u001b[A\u001b[A\n",
      "\n",
      "\n",
      "3580it [00:00, 4445.14it/s]\u001b[A\u001b[A\u001b[A\n",
      "\n",
      "\n",
      "4552it [00:00, 5309.44it/s]\u001b[A\u001b[A\u001b[A\n",
      "\n",
      "\n",
      "5527it [00:00, 6148.61it/s]\u001b[A\u001b[A\u001b[A\n",
      "\n",
      "\n",
      "6494it [00:01, 6902.63it/s]\u001b[A\u001b[A\u001b[A\n",
      "\n",
      "\n",
      "7467it [00:01, 7561.27it/s]\u001b[A\u001b[A\u001b[A\n",
      "\n",
      "\n",
      "8317it [00:01, 7404.44it/s]\u001b[A\u001b[A\u001b[A\n",
      "\n",
      "\n",
      "9124it [00:01, 7441.15it/s]\u001b[A\u001b[A\u001b[A\n",
      "\n",
      "\n",
      "9915it [00:01, 7441.78it/s]\u001b[A\u001b[A\u001b[A\n",
      "\n",
      "\n",
      "10692it [00:01, 7451.32it/s]\u001b[A\u001b[A\u001b[A\n",
      "\n",
      "\n",
      "11475it [00:01, 7560.84it/s]\u001b[A\u001b[A\u001b[A\n",
      "\n",
      "\n",
      "12400it [00:01, 7998.58it/s]\u001b[A\u001b[A\u001b[A\n",
      "\n",
      "\n",
      "13219it [00:01, 7892.93it/s]\u001b[A\u001b[A\u001b[A\n",
      "\n",
      "\n",
      "14022it [00:02, 7761.40it/s]\u001b[A\u001b[A\u001b[A\n",
      "\n",
      "\n",
      "14808it [00:02, 4861.91it/s]\u001b[A\u001b[A\u001b[A\n",
      "\n",
      "\n",
      "15436it [00:02, 4753.37it/s]\u001b[A\u001b[A\u001b[A\n",
      "\n",
      "\n",
      "16099it [00:02, 5194.20it/s]\u001b[A\u001b[A\u001b[A\n",
      "\n",
      "\n",
      "16864it [00:02, 5747.31it/s]\u001b[A\u001b[A\u001b[A\n",
      "\n",
      "\n",
      "17532it [00:02, 5997.70it/s]\u001b[A\u001b[A\u001b[A\n",
      "\n",
      "\n",
      "18259it [00:02, 6329.56it/s]\u001b[A\u001b[A\u001b[A\n",
      "\n",
      "\n",
      "19000it [00:02, 6618.73it/s]\u001b[A\u001b[A\u001b[A\n",
      "\n",
      "\n",
      "19742it [00:03, 6838.48it/s]\u001b[A\u001b[A\u001b[A\n",
      "\n",
      "\n",
      "20471it [00:03, 6964.37it/s]\u001b[A\u001b[A\u001b[A\n",
      "\n",
      "\n",
      "21361it [00:03, 7448.97it/s]\u001b[A\u001b[A\u001b[A\n",
      "\n",
      "\n",
      "22282it [00:03, 7901.35it/s]\u001b[A\u001b[A\u001b[A\n",
      "\n",
      "\n",
      "23096it [00:03, 7804.45it/s]\u001b[A\u001b[A\u001b[A\n",
      "\n",
      "\n",
      "23893it [00:03, 7408.33it/s]\u001b[A\u001b[A\u001b[A\n",
      "\n",
      "\n",
      "24650it [00:03, 7062.65it/s]\u001b[A\u001b[A\u001b[A\n",
      "\n",
      "\n",
      "25593it [00:03, 7636.75it/s]\u001b[A\u001b[A\u001b[A\n",
      "\n",
      "\n",
      "26486it [00:03, 7782.39it/s]\u001b[A\u001b[A\u001b[A\n",
      "\n",
      "\n",
      "27282it [00:04, 4575.90it/s]\u001b[A\u001b[A\u001b[A\n",
      "\n",
      "\n",
      "27909it [00:04, 4585.80it/s]\u001b[A\u001b[A\u001b[A\n",
      "\n",
      "\n",
      "28487it [00:04, 4821.21it/s]\u001b[A\u001b[A\u001b[A\n",
      "\n",
      "\n",
      "29402it [00:04, 5618.61it/s]\u001b[A\u001b[A\u001b[A\n",
      "\n",
      "\n",
      "30341it [00:04, 6387.70it/s]\u001b[A\u001b[A\u001b[A\n",
      "\n",
      "\n",
      "31094it [00:04, 6604.85it/s]\u001b[A\u001b[A\u001b[A\n",
      "\n",
      "\n",
      "32033it [00:04, 7249.60it/s]\u001b[A\u001b[A\u001b[A\n",
      "\n",
      "\n",
      "32834it [00:05, 7311.94it/s]\u001b[A\u001b[A\u001b[A\n",
      "\n",
      "\n",
      "33619it [00:05, 7317.20it/s]\u001b[A\u001b[A\u001b[A\n",
      "\n",
      "\n",
      "34525it [00:05, 7763.13it/s]\u001b[A\u001b[A\u001b[A\n",
      "\n",
      "\n",
      "35335it [00:05, 7781.25it/s]\u001b[A\u001b[A\u001b[A\n",
      "\n",
      "\n",
      "36137it [00:05, 7597.54it/s]\u001b[A\u001b[A\u001b[A\n",
      "\n",
      "\n",
      "36915it [00:05, 7586.95it/s]\u001b[A\u001b[A\u001b[A\n",
      "\n",
      "\n",
      "37846it [00:05, 8031.97it/s]\u001b[A\u001b[A\u001b[A\n",
      "\n",
      "\n",
      "38679it [00:05, 8115.05it/s]\u001b[A\u001b[A\u001b[A\n",
      "\n",
      "\n",
      "39502it [00:06, 5574.95it/s]\u001b[A\u001b[A\u001b[A\n",
      "\n",
      "\n",
      "40175it [00:06, 4621.34it/s]\u001b[A\u001b[A\u001b[A\n",
      "\n",
      "\n",
      "40745it [00:06, 4536.57it/s]\u001b[A\u001b[A\u001b[A\n",
      "\n",
      "\n",
      "41542it [00:06, 5209.67it/s]\u001b[A\u001b[A\u001b[A\n",
      "\n",
      "\n",
      "42487it [00:06, 6019.31it/s]\u001b[A\u001b[A\u001b[A\n",
      "\n",
      "\n",
      "43409it [00:06, 6718.65it/s]\u001b[A\u001b[A\u001b[A\n",
      "\n",
      "\n",
      "44183it [00:06, 6771.61it/s]\u001b[A\u001b[A\u001b[A\n",
      "\n",
      "\n",
      "44932it [00:06, 6956.90it/s]\u001b[A\u001b[A\u001b[A\n",
      "\n",
      "\n",
      "45865it [00:06, 7531.25it/s]\u001b[A\u001b[A\u001b[A\n",
      "\n",
      "\n",
      "46789it [00:07, 7973.58it/s]\u001b[A\u001b[A\u001b[A\n",
      "\n",
      "\n",
      "47630it [00:07, 8098.66it/s]\u001b[A\u001b[A\u001b[A\n",
      "\n",
      "\n",
      "48549it [00:07, 8397.07it/s]\u001b[A\u001b[A\u001b[A\n",
      "\n",
      "\n",
      "49477it [00:07, 8642.57it/s]\u001b[A\u001b[A\u001b[A\n",
      "\n",
      "\n",
      "50410it [00:07, 8832.26it/s]\u001b[A\u001b[A\u001b[A\n",
      "\n",
      "\n",
      "51322it [00:07, 8914.33it/s]\u001b[A\u001b[A\u001b[A\n",
      "\n",
      "\n",
      "52224it [00:07, 6611.58it/s]\u001b[A\u001b[A\u001b[A\n",
      "\n",
      "\n",
      "52979it [00:08, 4798.10it/s]\u001b[A\u001b[A\u001b[A\n",
      "\n",
      "\n",
      "53596it [00:08, 4987.98it/s]\u001b[A\u001b[A\u001b[A\n",
      "\n",
      "\n",
      "54287it [00:08, 5442.04it/s]\u001b[A\u001b[A\u001b[A\n",
      "\n",
      "\n",
      "55015it [00:08, 5887.23it/s]\u001b[A\u001b[A\u001b[A\n",
      "\n",
      "\n",
      "56494it [00:08, 6630.67it/s]\u001b[A\u001b[A\u001b[A\n"
     ]
    }
   ],
   "source": [
    "# write score to file:\n",
    "sco = scl.predict_log_proba(tts_full['feats'].to_list())\n",
    "i=0\n",
    "with open(\"/root/biological/bio_ML_svm_2019.txt\", \"a+\") as f:\n",
    "    for index, row in tqdm(tts_full.iterrows()):\n",
    "        key = row['class']\n",
    "        utt = row['utt']\n",
    "        src = row['attack']\n",
    "        # sco = clf.predict_log_proba([row['feats']])\n",
    "        f.write(\"{} {} {} {}\\n\".format(utt, src, key, sco[i][0]))\n",
    "        i=i+1\n",
    "f.close()"
   ]
  }
 ],
 "metadata": {
  "kernelspec": {
   "display_name": "py37",
   "language": "python",
   "name": "python3"
  },
  "language_info": {
   "codemirror_mode": {
    "name": "ipython",
    "version": 3
   },
   "file_extension": ".py",
   "mimetype": "text/x-python",
   "name": "python",
   "nbconvert_exporter": "python",
   "pygments_lexer": "ipython3",
   "version": "3.7.16 (default, Jan 17 2023, 22:20:44) \n[GCC 11.2.0]"
  },
  "vscode": {
   "interpreter": {
    "hash": "4143b87d691ea7b046c9b39af1783d2ad41659b9c3b6e89847dd7556f41950c9"
   }
  }
 },
 "nbformat": 4,
 "nbformat_minor": 5
}
